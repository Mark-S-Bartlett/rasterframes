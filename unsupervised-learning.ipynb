{
 "cells": [
  {
   "cell_type": "markdown",
   "metadata": {
    "format": "text/markdown"
   },
   "source": [
    "# Unsupervised Machine Learning\n",
    "\n",
    "In this example, we will demonstrate how to fit and score an unsupervised learning model with a [sample of Landsat 8 data](https://github.com/locationtech/rasterframes/tree/develop/pyrasterframes/src/test/resources).\n",
    "\n",
    "## Imports and Data Preparation\n",
    "\n"
   ]
  },
  {
   "cell_type": "code",
   "execution_count": 1,
   "metadata": {
    "autoscroll": "auto",
    "collapsed": false,
    "options": {
     "caption": false,
     "complete": true,
     "display_data": true,
     "display_stream": true,
     "dpi": 175,
     "echo": false,
     "evaluate": true,
     "f_env": null,
     "f_pos": "htpb",
     "f_size": [
      6,
      4
     ],
     "f_spines": true,
     "fig": true,
     "include": true,
     "name": "setup",
     "option_string": "name = \"setup\", echo=False",
     "results": "verbatim",
     "term": false,
     "wrap": false
    }
   },
   "outputs": [],
   "source": [
    "from IPython.core.display import display\n",
    "import pyrasterframes.rf_ipython\n",
    "from pyrasterframes.utils import create_rf_spark_session\n",
    "\n",
    "import os\n",
    "\n",
    "spark = create_rf_spark_session()"
   ]
  },
  {
   "cell_type": "markdown",
   "metadata": {
    "format": "text/markdown"
   },
   "source": [
    "\n",
    "We import various Spark components needed to construct our `Pipeline`.\n",
    "\n"
   ]
  },
  {
   "cell_type": "code",
   "execution_count": 2,
   "metadata": {
    "autoscroll": "auto",
    "collapsed": false,
    "options": {
     "caption": false,
     "complete": true,
     "display_data": true,
     "display_stream": true,
     "dpi": 175,
     "echo": true,
     "evaluate": true,
     "f_env": null,
     "f_pos": "htpb",
     "f_size": [
      6,
      4
     ],
     "f_spines": true,
     "fig": true,
     "include": true,
     "name": "imports",
     "option_string": "name = \"imports\", echo=True",
     "results": "verbatim",
     "term": false,
     "wrap": false
    }
   },
   "outputs": [],
   "source": [
    "import pandas as pd\n",
    "from pyrasterframes import TileExploder\n",
    "from pyrasterframes.rasterfunctions import *\n",
    "\n",
    "from pyspark.ml.feature import VectorAssembler\n",
    "from pyspark.ml.clustering import KMeans\n",
    "from pyspark.ml import Pipeline"
   ]
  },
  {
   "cell_type": "markdown",
   "metadata": {
    "format": "text/markdown"
   },
   "source": [
    "\n",
    "The first step is to create a Spark DataFrame of our imagery data. To achieve that we will create a catalog DataFrame using the pattern from [the I/O page](raster-io.html#Single-Scene--Multiple-Bands). In the catalog, each row represents a distinct area and time, and each column is the URI to a band's image product. The resulting Spark DataFrame may have many rows per URI, with a column corresponding to each band.\n",
    "\n",
    "\n"
   ]
  },
  {
   "cell_type": "code",
   "execution_count": 3,
   "metadata": {
    "autoscroll": "auto",
    "collapsed": false,
    "options": {
     "caption": false,
     "complete": true,
     "display_data": true,
     "display_stream": true,
     "dpi": 175,
     "echo": true,
     "evaluate": true,
     "f_env": null,
     "f_pos": "htpb",
     "f_size": [
      6,
      4
     ],
     "f_spines": true,
     "fig": true,
     "include": true,
     "name": "catalog",
     "option_string": "name = \"catalog\"",
     "results": "verbatim",
     "term": false,
     "wrap": false
    }
   },
   "outputs": [
    {
     "name": "stdout",
     "output_type": "stream",
     "text": [
      "root\n",
      " |-- b1_path: string (nullable = false)\n",
      " |-- b2_path: string (nullable = false)\n",
      " |-- b3_path: string (nullable = false)\n",
      " |-- b4_path: string (nullable = false)\n",
      " |-- b5_path: string (nullable = false)\n",
      " |-- b6_path: string (nullable = false)\n",
      " |-- b7_path: string (nullable = false)\n",
      " |-- b1: struct (nullable = true)\n",
      " |    |-- tile_context: struct (nullable = true)\n",
      " |    |    |-- extent: struct (nullable = false)\n",
      " |    |    |    |-- xmin: double (nullable = false)\n",
      " |    |    |    |-- ymin: double (nullable = false)\n",
      " |    |    |    |-- xmax: double (nullable = false)\n",
      " |    |    |    |-- ymax: double (nullable = false)\n",
      " |    |    |-- crs: struct (nullable = false)\n",
      " |    |    |    |-- crsProj4: string (nullable = false)\n",
      " |    |-- tile: tile (nullable = false)\n",
      " |-- b2: struct (nullable = true)\n",
      " |    |-- tile_context: struct (nullable = true)\n",
      " |    |    |-- extent: struct (nullable = false)\n",
      " |    |    |    |-- xmin: double (nullable = false)\n",
      " |    |    |    |-- ymin: double (nullable = false)\n",
      " |    |    |    |-- xmax: double (nullable = false)\n",
      " |    |    |    |-- ymax: double (nullable = false)\n",
      " |    |    |-- crs: struct (nullable = false)\n",
      " |    |    |    |-- crsProj4: string (nullable = false)\n",
      " |    |-- tile: tile (nullable = false)\n",
      " |-- b3: struct (nullable = true)\n",
      " |    |-- tile_context: struct (nullable = true)\n",
      " |    |    |-- extent: struct (nullable = false)\n",
      " |    |    |    |-- xmin: double (nullable = false)\n",
      " |    |    |    |-- ymin: double (nullable = false)\n",
      " |    |    |    |-- xmax: double (nullable = false)\n",
      " |    |    |    |-- ymax: double (nullable = false)\n",
      " |    |    |-- crs: struct (nullable = false)\n",
      " |    |    |    |-- crsProj4: string (nullable = false)\n",
      " |    |-- tile: tile (nullable = false)\n",
      " |-- b4: struct (nullable = true)\n",
      " |    |-- tile_context: struct (nullable = true)\n",
      " |    |    |-- extent: struct (nullable = false)\n",
      " |    |    |    |-- xmin: double (nullable = false)\n",
      " |    |    |    |-- ymin: double (nullable = false)\n",
      " |    |    |    |-- xmax: double (nullable = false)\n",
      " |    |    |    |-- ymax: double (nullable = false)\n",
      " |    |    |-- crs: struct (nullable = false)\n",
      " |    |    |    |-- crsProj4: string (nullable = false)\n",
      " |    |-- tile: tile (nullable = false)\n",
      " |-- b5: struct (nullable = true)\n",
      " |    |-- tile_context: struct (nullable = true)\n",
      " |    |    |-- extent: struct (nullable = false)\n",
      " |    |    |    |-- xmin: double (nullable = false)\n",
      " |    |    |    |-- ymin: double (nullable = false)\n",
      " |    |    |    |-- xmax: double (nullable = false)\n",
      " |    |    |    |-- ymax: double (nullable = false)\n",
      " |    |    |-- crs: struct (nullable = false)\n",
      " |    |    |    |-- crsProj4: string (nullable = false)\n",
      " |    |-- tile: tile (nullable = false)\n",
      " |-- b6: struct (nullable = true)\n",
      " |    |-- tile_context: struct (nullable = true)\n",
      " |    |    |-- extent: struct (nullable = false)\n",
      " |    |    |    |-- xmin: double (nullable = false)\n",
      " |    |    |    |-- ymin: double (nullable = false)\n",
      " |    |    |    |-- xmax: double (nullable = false)\n",
      " |    |    |    |-- ymax: double (nullable = false)\n",
      " |    |    |-- crs: struct (nullable = false)\n",
      " |    |    |    |-- crsProj4: string (nullable = false)\n",
      " |    |-- tile: tile (nullable = false)\n",
      " |-- b7: struct (nullable = true)\n",
      " |    |-- tile_context: struct (nullable = true)\n",
      " |    |    |-- extent: struct (nullable = false)\n",
      " |    |    |    |-- xmin: double (nullable = false)\n",
      " |    |    |    |-- ymin: double (nullable = false)\n",
      " |    |    |    |-- xmax: double (nullable = false)\n",
      " |    |    |    |-- ymax: double (nullable = false)\n",
      " |    |    |-- crs: struct (nullable = false)\n",
      " |    |    |    |-- crsProj4: string (nullable = false)\n",
      " |    |-- tile: tile (nullable = false)\n",
      " |-- crs: struct (nullable = true)\n",
      " |    |-- crsProj4: string (nullable = false)\n",
      " |-- extent: struct (nullable = true)\n",
      " |    |-- xmin: double (nullable = false)\n",
      " |    |-- ymin: double (nullable = false)\n",
      " |    |-- xmax: double (nullable = false)\n",
      " |    |-- ymax: double (nullable = false)\n",
      "\n"
     ]
    }
   ],
   "source": [
    "filenamePattern = \"https://github.com/locationtech/rasterframes/\" \\\n",
    "                  \"raw/develop/core/src/test/resources/L8-B{}-Elkton-VA.tiff\"\n",
    "catalog_df = pd.DataFrame([\n",
    "    {'b' + str(b): filenamePattern.format(b) for b in range(1, 8)}\n",
    "])\n",
    "\n",
    "df = spark.read.raster(catalog_df, catalog_col_names=catalog_df.columns)\n",
    "df = df.withColumn('crs', rf_crs(df.b1)) \\\n",
    "       .withColumn('extent', rf_extent(df.b1))\n",
    "df.printSchema()"
   ]
  },
  {
   "cell_type": "markdown",
   "metadata": {
    "format": "text/markdown"
   },
   "source": [
    "\n",
    "## Create ML Pipeline\n",
    "\n",
    "SparkML requires that each observation be in its own row, and features for each observation be packed into a single `Vector`. For this unsupervised learning problem, we will treat each _pixel_ as an observation and each band as a feature. The first step is to \"explode\" the _tiles_ into a single row per pixel. In RasterFrames, generally a pixel is called a @ref:[`cell`](concepts.md#cell).\n",
    "\n"
   ]
  },
  {
   "cell_type": "code",
   "execution_count": 4,
   "metadata": {
    "autoscroll": "auto",
    "collapsed": false,
    "options": {
     "caption": false,
     "complete": true,
     "display_data": true,
     "display_stream": true,
     "dpi": 175,
     "echo": true,
     "evaluate": true,
     "f_env": null,
     "f_pos": "htpb",
     "f_size": [
      6,
      4
     ],
     "f_spines": true,
     "fig": true,
     "include": true,
     "name": "exploder",
     "option_string": "name = \"exploder\"",
     "results": "verbatim",
     "term": false,
     "wrap": false
    }
   },
   "outputs": [],
   "source": [
    "exploder = TileExploder()"
   ]
  },
  {
   "cell_type": "markdown",
   "metadata": {
    "format": "text/markdown"
   },
   "source": [
    "\n",
    "To \"vectorize\" the the band columns, we use the SparkML `VectorAssembler`. Each of the seven bands is a different feature.\n",
    "\n"
   ]
  },
  {
   "cell_type": "code",
   "execution_count": 5,
   "metadata": {
    "autoscroll": "auto",
    "collapsed": false,
    "options": {
     "caption": false,
     "complete": true,
     "display_data": true,
     "display_stream": true,
     "dpi": 175,
     "echo": true,
     "evaluate": true,
     "f_env": null,
     "f_pos": "htpb",
     "f_size": [
      6,
      4
     ],
     "f_spines": true,
     "fig": true,
     "include": true,
     "name": "assembler",
     "option_string": "name = \"assembler\"",
     "results": "verbatim",
     "term": false,
     "wrap": false
    }
   },
   "outputs": [],
   "source": [
    "assembler = VectorAssembler() \\\n",
    "    .setInputCols(list(catalog_df.columns)) \\\n",
    "    .setOutputCol(\"features\")"
   ]
  },
  {
   "cell_type": "markdown",
   "metadata": {
    "format": "text/markdown"
   },
   "source": [
    "\n",
    "For this problem, we will use the K-means clustering algorithm and configure our model to have 5 clusters.\n",
    "\n"
   ]
  },
  {
   "cell_type": "code",
   "execution_count": 6,
   "metadata": {
    "autoscroll": "auto",
    "collapsed": false,
    "options": {
     "caption": false,
     "complete": true,
     "display_data": true,
     "display_stream": true,
     "dpi": 175,
     "echo": true,
     "evaluate": true,
     "f_env": null,
     "f_pos": "htpb",
     "f_size": [
      6,
      4
     ],
     "f_spines": true,
     "fig": true,
     "include": true,
     "name": "kmeans",
     "option_string": "name = \"kmeans\"",
     "results": "verbatim",
     "term": false,
     "wrap": false
    }
   },
   "outputs": [],
   "source": [
    "kmeans = KMeans().setK(5).setFeaturesCol('features')"
   ]
  },
  {
   "cell_type": "markdown",
   "metadata": {
    "format": "text/markdown"
   },
   "source": [
    "\n",
    "We can combine the above stages into a single [`Pipeline`](https://spark.apache.org/docs/latest/ml-pipeline.html).\n",
    "\n"
   ]
  },
  {
   "cell_type": "code",
   "execution_count": 7,
   "metadata": {
    "autoscroll": "auto",
    "collapsed": false,
    "options": {
     "caption": false,
     "complete": true,
     "display_data": true,
     "display_stream": true,
     "dpi": 175,
     "echo": true,
     "evaluate": true,
     "f_env": null,
     "f_pos": "htpb",
     "f_size": [
      6,
      4
     ],
     "f_spines": true,
     "fig": true,
     "include": true,
     "name": "pipeline",
     "option_string": "name = \"pipeline\"",
     "results": "verbatim",
     "term": false,
     "wrap": false
    }
   },
   "outputs": [],
   "source": [
    "pipeline = Pipeline().setStages([exploder, assembler, kmeans])"
   ]
  },
  {
   "cell_type": "markdown",
   "metadata": {
    "format": "text/markdown"
   },
   "source": [
    "\n",
    "## Fit the Model and Score\n",
    "\n",
    "Fitting the _pipeline_ actually executes exploding the _tiles_, assembling the features _vectors_, and fitting the K-means clustering model.\n",
    "\n"
   ]
  },
  {
   "cell_type": "code",
   "execution_count": 8,
   "metadata": {
    "autoscroll": "auto",
    "collapsed": false,
    "options": {
     "caption": false,
     "complete": true,
     "display_data": true,
     "display_stream": true,
     "dpi": 175,
     "echo": true,
     "evaluate": true,
     "f_env": null,
     "f_pos": "htpb",
     "f_size": [
      6,
      4
     ],
     "f_spines": true,
     "fig": true,
     "include": true,
     "name": "fit",
     "option_string": "name = \"fit\"",
     "results": "verbatim",
     "term": false,
     "wrap": false
    }
   },
   "outputs": [],
   "source": [
    "model = pipeline.fit(df)"
   ]
  },
  {
   "cell_type": "markdown",
   "metadata": {
    "format": "text/markdown"
   },
   "source": [
    "\n",
    "We can use the `transform` function to score the training data in the fitted _pipeline_ model. This will add a column called `prediction` with the closest cluster identifier.\n",
    "\n"
   ]
  },
  {
   "cell_type": "code",
   "execution_count": 9,
   "metadata": {
    "autoscroll": "auto",
    "collapsed": false,
    "options": {
     "caption": false,
     "complete": true,
     "display_data": true,
     "display_stream": true,
     "dpi": 175,
     "echo": true,
     "evaluate": true,
     "f_env": null,
     "f_pos": "htpb",
     "f_size": [
      6,
      4
     ],
     "f_spines": true,
     "fig": true,
     "include": true,
     "name": "transform",
     "option_string": "name = \"transform\"",
     "results": "verbatim",
     "term": false,
     "wrap": false
    }
   },
   "outputs": [],
   "source": [
    "clustered = model.transform(df)"
   ]
  },
  {
   "cell_type": "markdown",
   "metadata": {
    "format": "text/markdown"
   },
   "source": [
    "\n",
    "Now let's take a look at some sample output.\n",
    "\n"
   ]
  },
  {
   "cell_type": "code",
   "execution_count": 10,
   "metadata": {
    "autoscroll": "auto",
    "collapsed": false,
    "options": {
     "caption": false,
     "complete": true,
     "display_data": true,
     "display_stream": true,
     "dpi": 175,
     "echo": true,
     "evaluate": true,
     "f_env": null,
     "f_pos": "htpb",
     "f_size": [
      6,
      4
     ],
     "f_spines": true,
     "fig": true,
     "include": true,
     "name": "view_predictions",
     "option_string": "name = \"view_predictions\"",
     "results": "verbatim",
     "term": false,
     "wrap": false
    }
   },
   "outputs": [
    {
     "data": {
      "text/html": [
       "<table>\n",
       "<caption>Showing only top 5 rows</caption>\n",
       "<thead>\n",
       "<tr><th>prediction</th><th>extent</th><th>column_index</th><th>row_index</th><th>features</th></tr>\n",
       "</thead>\n",
       "<tbody>\n",
       "<tr><td>4</td><td>[703986.502389, 4249551.61978, 709549.093643, 4254601.8671]</td><td>0</td><td>0</td><td>[9470.0,8491.0,7805.0,6697.0,17507.0,10338.0,7235.0]</td></tr>\n",
       "<tr><td>4</td><td>[703986.502389, 4249551.61978, 709549.093643, 4254601.8671]</td><td>1</td><td>0</td><td>[9566.0,8607.0,8046.0,6898.0,18504.0,11545.0,7877.0]</td></tr>\n",
       "<tr><td>1</td><td>[703986.502389, 4249551.61978, 709549.093643, 4254601.8671]</td><td>2</td><td>0</td><td>[9703.0,8808.0,8377.0,7222.0,20556.0,13207.0,8686.0]</td></tr>\n",
       "<tr><td>1</td><td>[703986.502389, 4249551.61978, 709549.093643, 4254601.8671]</td><td>3</td><td>0</td><td>[9856.0,8983.0,8565.0,7557.0,19479.0,13203.0,9065.0]</td></tr>\n",
       "<tr><td>1</td><td>[703986.502389, 4249551.61978, 709549.093643, 4254601.8671]</td><td>4</td><td>0</td><td>[10105.0,9270.0,8851.0,7912.0,19074.0,12737.0,8947.0]</td></tr>\n",
       "</tbody>\n",
       "</table>"
      ],
      "text/markdown": [
       "\n",
       "_Showing only top 5 rows_.\n",
       "\n",
       "| prediction | extent | column_index | row_index | features |\n",
       "|---|---|---|---|---|\n",
       "| 4 | \\[703986.502389, 4249551.61978, 709549.093643, 4254601.8671] | 0 | 0 | \\[9470.0,8491.0,7805.0,6697.0,17507.0,10338.0,7235.0] |\n",
       "| 4 | \\[703986.502389, 4249551.61978, 709549.093643, 4254601.8671] | 1 | 0 | \\[9566.0,8607.0,8046.0,6898.0,18504.0,11545.0,7877.0] |\n",
       "| 1 | \\[703986.502389, 4249551.61978, 709549.093643, 4254601.8671] | 2 | 0 | \\[9703.0,8808.0,8377.0,7222.0,20556.0,13207.0,8686.0] |\n",
       "| 1 | \\[703986.502389, 4249551.61978, 709549.093643, 4254601.8671] | 3 | 0 | \\[9856.0,8983.0,8565.0,7557.0,19479.0,13203.0,9065.0] |\n",
       "| 1 | \\[703986.502389, 4249551.61978, 709549.093643, 4254601.8671] | 4 | 0 | \\[10105.0,9270.0,8851.0,7912.0,19074.0,12737.0,8947.0] |"
      ],
      "text/plain": [
       "DataFrame[prediction: int, extent: struct<xmin:double,ymin:double,xmax:double,ymax:double>, column_index: int, row_index: int, features: vector]"
      ]
     },
     "execution_count": 1,
     "metadata": {},
     "output_type": "execute_result"
    }
   ],
   "source": [
    "clustered.select('prediction', 'extent', 'column_index', 'row_index', 'features')"
   ]
  },
  {
   "cell_type": "markdown",
   "metadata": {
    "format": "text/markdown"
   },
   "source": [
    "\n",
    "If we want to inspect the model statistics, the SparkML API requires us to go through this unfortunate contortion to access the clustering results:\n",
    "\n"
   ]
  },
  {
   "cell_type": "code",
   "execution_count": 11,
   "metadata": {
    "autoscroll": "auto",
    "collapsed": false,
    "options": {
     "caption": false,
     "complete": true,
     "display_data": true,
     "display_stream": true,
     "dpi": 175,
     "echo": true,
     "evaluate": true,
     "f_env": null,
     "f_pos": "htpb",
     "f_size": [
      6,
      4
     ],
     "f_spines": true,
     "fig": true,
     "include": true,
     "name": "cluster_stats",
     "option_string": "name = \"cluster_stats\"",
     "results": "verbatim",
     "term": false,
     "wrap": false
    }
   },
   "outputs": [],
   "source": [
    "cluster_stage = model.stages[2]"
   ]
  },
  {
   "cell_type": "markdown",
   "metadata": {
    "format": "text/markdown"
   },
   "source": [
    "\n",
    "We can then compute the sum of squared distances of points to their nearest center, which is elemental to most cluster quality metrics.\n",
    "\n"
   ]
  },
  {
   "cell_type": "code",
   "execution_count": 12,
   "metadata": {
    "autoscroll": "auto",
    "collapsed": false,
    "options": {
     "caption": false,
     "complete": true,
     "display_data": true,
     "display_stream": true,
     "dpi": 175,
     "echo": true,
     "evaluate": true,
     "f_env": null,
     "f_pos": "htpb",
     "f_size": [
      6,
      4
     ],
     "f_spines": true,
     "fig": true,
     "include": true,
     "name": "distance",
     "option_string": "name = \"distance\"",
     "results": "verbatim",
     "term": false,
     "wrap": false
    }
   },
   "outputs": [
    {
     "name": "stdout",
     "output_type": "stream",
     "text": [
      "Within set sum of squared errors: 224457400736.95737\n"
     ]
    }
   ],
   "source": [
    "metric = cluster_stage.computeCost(clustered)\n",
    "print(\"Within set sum of squared errors: %s\" % metric)"
   ]
  },
  {
   "cell_type": "markdown",
   "metadata": {
    "format": "text/markdown"
   },
   "source": [
    "\n",
    "## Visualize Prediction\n",
    "\n",
    "We can recreate the tiled data structure using the metadata added by the `TileExploder` pipeline stage.\n",
    "\n"
   ]
  },
  {
   "cell_type": "code",
   "execution_count": 13,
   "metadata": {
    "autoscroll": "auto",
    "collapsed": false,
    "options": {
     "caption": false,
     "complete": true,
     "display_data": true,
     "display_stream": true,
     "dpi": 175,
     "echo": true,
     "evaluate": true,
     "f_env": null,
     "f_pos": "htpb",
     "f_size": [
      6,
      4
     ],
     "f_spines": true,
     "fig": true,
     "include": true,
     "name": "assemble",
     "option_string": "name = \"assemble\"",
     "results": "verbatim",
     "term": false,
     "wrap": false
    }
   },
   "outputs": [],
   "source": [
    "from pyrasterframes.rf_types import CellType\n",
    "\n",
    "tile_dims = df.select(rf_dimensions(df.b1).alias('dims')).first()['dims']\n",
    "retiled = clustered.groupBy('extent', 'crs') \\\n",
    "    .agg(\n",
    "        rf_assemble_tile('column_index', 'row_index', 'prediction',\n",
    "            tile_dims['cols'], tile_dims['rows'], CellType.int8()).alias('prediction')\n",
    ")"
   ]
  },
  {
   "cell_type": "markdown",
   "metadata": {
    "format": "text/markdown"
   },
   "source": [
    "\n",
    "The resulting output is shown below.\n",
    "\n"
   ]
  },
  {
   "cell_type": "code",
   "execution_count": 14,
   "metadata": {
    "autoscroll": "auto",
    "collapsed": false,
    "options": {
     "caption": false,
     "complete": true,
     "display_data": true,
     "display_stream": true,
     "dpi": 175,
     "echo": true,
     "evaluate": true,
     "f_env": null,
     "f_pos": "htpb",
     "f_size": [
      6,
      4
     ],
     "f_spines": true,
     "fig": true,
     "include": true,
     "name": "viz",
     "option_string": "name = \"viz\"",
     "results": "verbatim",
     "term": false,
     "wrap": false
    }
   },
   "outputs": [
    {
     "data": {
      "text/html": [
       "<table>\n",
       "<thead>\n",
       "<tr><th>rf_agg_overview_raster</th></tr>\n",
       "</thead>\n",
       "<tbody>\n",
       "<tr><td><img src=\"data:image/png;base64,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\"></img></td></tr>\n",
       "</tbody>\n",
       "</table>"
      ],
      "text/markdown": [
       "| rf_agg_overview_raster |\n",
       "|---|\n",
       "| <img src=\"data:image/png;base64,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\"></img> |"
      ],
      "text/plain": [
       "DataFrame[rf_agg_overview_raster: udt]"
      ]
     },
     "execution_count": 1,
     "metadata": {},
     "output_type": "execute_result"
    }
   ],
   "source": [
    "from pyrasterframes.rf_types import Extent\n",
    "aoi = Extent.from_row(\n",
    "    retiled.agg(rf_agg_reprojected_extent('extent', 'crs', 'epsg:3857')) \\\n",
    "           .first()[0]\n",
    ")\n",
    "\n",
    "retiled.select(rf_agg_overview_raster('prediction', 558, 507, aoi, 'extent', 'crs'))"
   ]
  },
  {
   "cell_type": "markdown",
   "metadata": {
    "format": "text/markdown"
   },
   "source": [
    "\n",
    "\n"
   ]
  },
  {
   "cell_type": "code",
   "execution_count": 15,
   "metadata": {
    "autoscroll": "auto",
    "collapsed": false,
    "options": {
     "caption": false,
     "complete": true,
     "display_data": true,
     "display_stream": true,
     "dpi": 175,
     "echo": false,
     "evaluate": false,
     "f_env": null,
     "f_pos": "htpb",
     "f_size": [
      6,
      4
     ],
     "f_spines": true,
     "fig": true,
     "include": true,
     "name": "viz-true-color",
     "option_string": "name = \"viz-true-color\", evaluate=False, echo=False",
     "results": "verbatim",
     "term": false,
     "wrap": false
    }
   },
   "outputs": "",
   "source": [
    "#For comparison, the true color composite of the original data.\n",
    "#  this is really dark\n",
    "df.select(rf_render_png('b4', 'b3', 'b2'))"
   ]
  },
  {
   "cell_type": "markdown",
   "metadata": {
    "format": "text/markdown"
   },
   "source": []
  }
 ],
 "metadata": {
  "kernel_info": {
   "name": "python3"
  },
  "language_info": {
   "name": "python"
  }
 },
 "nbformat": 4,
 "nbformat_minor": 0
}