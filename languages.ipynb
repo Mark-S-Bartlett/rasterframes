{
 "cells": [
  {
   "cell_type": "markdown",
   "metadata": {
    "format": "text/markdown"
   },
   "source": [
    "# Scala and SQL\n",
    "\n",
    "One of the great powers of RasterFrames is the ability to express computation in multiple programming languages. The content in this manual focuses on Python because it is the most commonly used language in data science and GIS analytics. However, Scala (the implementation language of RasterFrames) and SQL (commonly used in many domains) are also fully supported. Examples in Python can be mechanically translated into the other two languages without much difficulty once the naming conventions are understood. \n",
    "\n",
    "In the sections below we will show the same example program in each language. To do so we will compute the average NDVI per month for a single _tile_ in Tanzania.\n",
    "\n"
   ]
  },
  {
   "cell_type": "code",
   "execution_count": 1,
   "metadata": {
    "autoscroll": "auto",
    "collapsed": false,
    "options": {
     "caption": false,
     "complete": true,
     "display_data": true,
     "display_stream": true,
     "dpi": 175,
     "echo": false,
     "evaluate": true,
     "f_env": null,
     "f_pos": "htpb",
     "f_size": [
      6,
      4
     ],
     "f_spines": true,
     "fig": true,
     "include": true,
     "name": "imports",
     "option_string": "name = \"imports\", echo=False",
     "results": "verbatim",
     "term": false,
     "wrap": false
    }
   },
   "outputs": [],
   "source": [
    "from pyspark.sql.functions import *\n",
    "from pyrasterframes.utils import create_rf_spark_session\n",
    "\n",
    "from pyrasterframes.rasterfunctions import *\n",
    "import pyrasterframes.rf_ipython\n",
    "import pandas as pd\n",
    "import os\n",
    "spark = create_rf_spark_session()"
   ]
  },
  {
   "cell_type": "markdown",
   "metadata": {
    "format": "text/markdown"
   },
   "source": [
    "\n",
    "## Python\n",
    "\n",
    "### Step 1: Load the catalog\n",
    "\n"
   ]
  },
  {
   "cell_type": "code",
   "execution_count": 2,
   "metadata": {
    "autoscroll": "auto",
    "collapsed": false,
    "options": {
     "caption": false,
     "complete": true,
     "display_data": true,
     "display_stream": true,
     "dpi": 175,
     "echo": true,
     "evaluate": true,
     "f_env": null,
     "f_pos": "htpb",
     "f_size": [
      6,
      4
     ],
     "f_spines": true,
     "fig": true,
     "include": true,
     "name": "step_1_python",
     "option_string": "name = \"step_1_python\"",
     "results": "verbatim",
     "term": false,
     "wrap": false
    }
   },
   "outputs": [],
   "source": [
    "modis = spark.read.format('aws-pds-modis-catalog').load()"
   ]
  },
  {
   "cell_type": "markdown",
   "metadata": {
    "format": "text/markdown"
   },
   "source": [
    "### Step 2: Down-select data by month\n",
    "\n"
   ]
  },
  {
   "cell_type": "code",
   "execution_count": 3,
   "metadata": {
    "autoscroll": "auto",
    "collapsed": false,
    "options": {
     "caption": false,
     "complete": true,
     "display_data": true,
     "display_stream": true,
     "dpi": 175,
     "echo": true,
     "evaluate": true,
     "f_env": null,
     "f_pos": "htpb",
     "f_size": [
      6,
      4
     ],
     "f_spines": true,
     "fig": true,
     "include": true,
     "name": "step_2_python",
     "option_string": "name = \"step_2_python\"",
     "results": "verbatim",
     "term": false,
     "wrap": false
    }
   },
   "outputs": [
    {
     "name": "stdout",
     "output_type": "stream",
     "text": [
      "root\n",
      " |-- granule_id: string (nullable = false)\n",
      " |-- month: integer (nullable = false)\n",
      " |-- red: string (nullable = true)\n",
      " |-- nir: string (nullable = true)\n",
      "\n"
     ]
    }
   ],
   "source": [
    "red_nir_monthly_2017 = modis \\\n",
    "    .select(\n",
    "        col('granule_id'),\n",
    "        month('acquisition_date').alias('month'),\n",
    "        col('B01').alias('red'),\n",
    "        col('B02').alias('nir')\n",
    "    ) \\\n",
    "    .where(\n",
    "        (year('acquisition_date') == 2017) & \n",
    "        (dayofmonth('acquisition_date') == 15) & \n",
    "        (col('granule_id') == 'h21v09')\n",
    "    )\n",
    "red_nir_monthly_2017.printSchema()"
   ]
  },
  {
   "cell_type": "markdown",
   "metadata": {
    "format": "text/markdown"
   },
   "source": [
    "\n",
    "### Step 3: Read tiles\n",
    "\n"
   ]
  },
  {
   "cell_type": "code",
   "execution_count": 4,
   "metadata": {
    "autoscroll": "auto",
    "collapsed": false,
    "options": {
     "caption": false,
     "complete": true,
     "display_data": true,
     "display_stream": true,
     "dpi": 175,
     "echo": true,
     "evaluate": true,
     "f_env": null,
     "f_pos": "htpb",
     "f_size": [
      6,
      4
     ],
     "f_spines": true,
     "fig": true,
     "include": true,
     "name": "step_3_python",
     "option_string": "name = \"step_3_python\"",
     "results": "verbatim",
     "term": false,
     "wrap": false
    }
   },
   "outputs": [],
   "source": [
    "red_nir_tiles_monthly_2017 = spark.read.raster(\n",
    "    red_nir_monthly_2017,\n",
    "    catalog_col_names=['red', 'nir'],\n",
    "    tile_dimensions=(256, 256)\n",
    ")"
   ]
  },
  {
   "cell_type": "markdown",
   "metadata": {
    "format": "text/markdown"
   },
   "source": [
    "\n",
    "### Step 4: Compute aggregates\n",
    "\n"
   ]
  },
  {
   "cell_type": "code",
   "execution_count": 5,
   "metadata": {
    "autoscroll": "auto",
    "collapsed": false,
    "options": {
     "caption": false,
     "complete": true,
     "display_data": true,
     "display_stream": true,
     "dpi": 175,
     "echo": true,
     "evaluate": true,
     "f_env": null,
     "f_pos": "htpb",
     "f_size": [
      6,
      4
     ],
     "f_spines": true,
     "fig": true,
     "include": true,
     "name": "step_4_python",
     "option_string": "name = \"step_4_python\"",
     "results": "verbatim",
     "term": false,
     "wrap": false
    }
   },
   "outputs": [
    {
     "data": {
      "text/html": [
       "<table>\n",
       "<caption>Showing only top 5 rows</caption>\n",
       "<thead>\n",
       "<tr><th>month</th><th>data_cells</th><th>no_data_cells</th><th>min</th><th>max</th><th>mean</th><th>variance</th></tr>\n",
       "</thead>\n",
       "<tbody>\n",
       "<tr><td>1</td><td>65523</td><td>13</td><td>-0.2519809825673534</td><td>0.8644836272040303</td><td>0.4062596673810191</td><td>0.01407280838385605</td></tr>\n",
       "<tr><td>2</td><td>65521</td><td>15</td><td>-0.21232123212321233</td><td>0.8872390789756832</td><td>0.46738863804011127</td><td>0.011822698212885174</td></tr>\n",
       "<tr><td>3</td><td>64425</td><td>1111</td><td>-0.36211340206185566</td><td>0.9208261617900172</td><td>0.5811071411891395</td><td>0.011570245465885753</td></tr>\n",
       "<tr><td>4</td><td>64236</td><td>1300</td><td>-0.17252657399836469</td><td>0.922397476340694</td><td>0.5254596885897274</td><td>0.01087259231886667</td></tr>\n",
       "<tr><td>5</td><td>60819</td><td>4717</td><td>-0.19951338199513383</td><td>0.916626036079961</td><td>0.46471430090039234</td><td>0.01215478443067744</td></tr>\n",
       "</tbody>\n",
       "</table>"
      ],
      "text/markdown": [
       "\n",
       "_Showing only top 5 rows_.\n",
       "\n",
       "| month | data_cells | no_data_cells | min | max | mean | variance |\n",
       "|---|---|---|---|---|---|---|\n",
       "| 1 | 65523 | 13 | -0.2519809825673534 | 0.8644836272040303 | 0.4062596673810191 | 0.01407280838385605 |\n",
       "| 2 | 65521 | 15 | -0.21232123212321233 | 0.8872390789756832 | 0.46738863804011127 | 0.011822698212885174 |\n",
       "| 3 | 64425 | 1111 | -0.36211340206185566 | 0.9208261617900172 | 0.5811071411891395 | 0.011570245465885753 |\n",
       "| 4 | 64236 | 1300 | -0.17252657399836469 | 0.922397476340694 | 0.5254596885897274 | 0.01087259231886667 |\n",
       "| 5 | 60819 | 4717 | -0.19951338199513383 | 0.916626036079961 | 0.46471430090039234 | 0.01215478443067744 |"
      ],
      "text/plain": [
       "DataFrame[month: int, data_cells: bigint, no_data_cells: bigint, min: double, max: double, mean: double, variance: double]"
      ]
     },
     "execution_count": 1,
     "metadata": {},
     "output_type": "execute_result"
    }
   ],
   "source": [
    "result = red_nir_tiles_monthly_2017 \\\n",
    "    .where(st_intersects(\n",
    "        st_reproject(rf_geometry(col('red')), rf_crs(col('red')).crsProj4, rf_mk_crs('EPSG:4326')),\n",
    "        st_makePoint(lit(34.870605), lit(-4.729727)))\n",
    "    ) \\\n",
    "    .groupBy('month') \\\n",
    "    .agg(rf_agg_stats(rf_normalized_difference(col('nir'), col('red'))).alias('ndvi_stats')) \\\n",
    "    .orderBy(col('month')) \\\n",
    "    .select('month', 'ndvi_stats.*')\n",
    "result"
   ]
  },
  {
   "cell_type": "markdown",
   "metadata": {
    "format": "text/markdown"
   },
   "source": [
    "\n",
    "## SQL\n",
    "\n",
    "For convenience, we're going to evaluate SQL from the Python environment. The SQL fragments should work in the `spark-sql` shell just the same.\n",
    "\n"
   ]
  },
  {
   "cell_type": "code",
   "execution_count": 6,
   "metadata": {
    "autoscroll": "auto",
    "collapsed": false,
    "options": {
     "caption": false,
     "complete": true,
     "display_data": true,
     "display_stream": true,
     "dpi": 175,
     "echo": true,
     "evaluate": true,
     "f_env": null,
     "f_pos": "htpb",
     "f_size": [
      6,
      4
     ],
     "f_spines": true,
     "fig": true,
     "include": true,
     "name": "sql_setup",
     "option_string": "name = \"sql_setup\"",
     "results": "verbatim",
     "term": false,
     "wrap": false
    }
   },
   "outputs": [],
   "source": [
    "def sql(stmt):\n",
    "    return spark.sql(stmt)"
   ]
  },
  {
   "cell_type": "markdown",
   "metadata": {
    "format": "text/markdown"
   },
   "source": [
    "\n",
    "### Step 1: Load the catalog\n",
    "\n"
   ]
  },
  {
   "cell_type": "code",
   "execution_count": 7,
   "metadata": {
    "autoscroll": "auto",
    "collapsed": false,
    "options": {
     "caption": false,
     "complete": true,
     "display_data": true,
     "display_stream": true,
     "dpi": 175,
     "echo": true,
     "evaluate": true,
     "f_env": null,
     "f_pos": "htpb",
     "f_size": [
      6,
      4
     ],
     "f_spines": true,
     "fig": true,
     "include": true,
     "name": "step_1_sql",
     "option_string": "name = \"step_1_sql\", results='hidden'",
     "results": "hidden",
     "term": false,
     "wrap": false
    }
   },
   "outputs": [
    {
     "data": {
      "text/html": [
       "<table>\n",
       "<thead>\n",
       "<tr><th></th></tr>\n",
       "</thead>\n",
       "<tbody>\n",
       "<tr><td></td></tr>\n",
       "</tbody>\n",
       "</table>"
      ],
      "text/markdown": [
       "|  |\n",
       "|\n",
       "|  |"
      ],
      "text/plain": [
       "DataFrame[]"
      ]
     },
     "execution_count": 1,
     "metadata": {},
     "output_type": "execute_result"
    }
   ],
   "source": [
    "sql(\"CREATE OR REPLACE TEMPORARY VIEW modis USING `aws-pds-modis-catalog`\")"
   ]
  },
  {
   "cell_type": "markdown",
   "metadata": {
    "format": "text/markdown"
   },
   "source": [
    "\n",
    "### Step 2: Down-select data by month\n",
    "\n"
   ]
  },
  {
   "cell_type": "code",
   "execution_count": 8,
   "metadata": {
    "autoscroll": "auto",
    "collapsed": false,
    "options": {
     "caption": false,
     "complete": true,
     "display_data": true,
     "display_stream": true,
     "dpi": 175,
     "echo": true,
     "evaluate": true,
     "f_env": null,
     "f_pos": "htpb",
     "f_size": [
      6,
      4
     ],
     "f_spines": true,
     "fig": true,
     "include": true,
     "name": "step_2_sql",
     "option_string": "name = \"step_2_sql\"",
     "results": "verbatim",
     "term": false,
     "wrap": false
    }
   },
   "outputs": [
    {
     "data": {
      "text/html": [
       "<table>\n",
       "<thead>\n",
       "<tr><th>col_name</th><th>data_type</th><th>comment</th></tr>\n",
       "</thead>\n",
       "<tbody>\n",
       "<tr><td>granule_id</td><td>string</td></tr>\n",
       "<tr><td>month</td><td>int</td></tr>\n",
       "<tr><td>red</td><td>string</td></tr>\n",
       "<tr><td>nir</td><td>string</td></tr>\n",
       "</tbody>\n",
       "</table>"
      ],
      "text/markdown": [
       "| col_name | data_type | comment |\n",
       "|---|---|---|\n",
       "| granule_id | string |\n",
       "| month | int |\n",
       "| red | string |\n",
       "| nir | string |"
      ],
      "text/plain": [
       "DataFrame[col_name: string, data_type: string, comment: string]"
      ]
     },
     "execution_count": 1,
     "metadata": {},
     "output_type": "execute_result"
    }
   ],
   "source": [
    "sql(\"\"\"\n",
    "CREATE OR REPLACE TEMPORARY VIEW red_nir_monthly_2017 AS\n",
    "SELECT granule_id, month(acquisition_date) as month, B01 as red, B02 as nir\n",
    "FROM modis\n",
    "WHERE year(acquisition_date) = 2017 AND day(acquisition_date) = 15 AND granule_id = 'h21v09'\n",
    "\"\"\")\n",
    "sql('DESCRIBE red_nir_monthly_2017')"
   ]
  },
  {
   "cell_type": "markdown",
   "metadata": {
    "format": "text/markdown"
   },
   "source": [
    "\n",
    "### Step 3: Read tiles\n",
    "\n"
   ]
  },
  {
   "cell_type": "code",
   "execution_count": 9,
   "metadata": {
    "autoscroll": "auto",
    "collapsed": false,
    "options": {
     "caption": false,
     "complete": true,
     "display_data": true,
     "display_stream": true,
     "dpi": 175,
     "echo": true,
     "evaluate": true,
     "f_env": null,
     "f_pos": "htpb",
     "f_size": [
      6,
      4
     ],
     "f_spines": true,
     "fig": true,
     "include": true,
     "name": "step_3_sql",
     "option_string": "name = \"step_3_sql\", results='hidden'",
     "results": "hidden",
     "term": false,
     "wrap": false
    }
   },
   "outputs": [
    {
     "data": {
      "text/html": [
       "<table>\n",
       "<thead>\n",
       "<tr><th></th></tr>\n",
       "</thead>\n",
       "<tbody>\n",
       "<tr><td></td></tr>\n",
       "</tbody>\n",
       "</table>"
      ],
      "text/markdown": [
       "|  |\n",
       "|\n",
       "|  |"
      ],
      "text/plain": [
       "DataFrame[]"
      ]
     },
     "execution_count": 1,
     "metadata": {},
     "output_type": "execute_result"
    }
   ],
   "source": [
    "sql(\"\"\"\n",
    "CREATE OR REPLACE TEMPORARY VIEW red_nir_tiles_monthly_2017\n",
    "USING raster\n",
    "OPTIONS (\n",
    "    catalog_table='red_nir_monthly_2017',\n",
    "    catalog_col_names='red,nir',\n",
    "    tile_dimensions='256,256'\n",
    "    )\n",
    "\"\"\")"
   ]
  },
  {
   "cell_type": "markdown",
   "metadata": {
    "format": "text/markdown"
   },
   "source": [
    "\n",
    "### Step 4: Compute aggregates\n",
    "\n"
   ]
  },
  {
   "cell_type": "code",
   "execution_count": 10,
   "metadata": {
    "autoscroll": "auto",
    "collapsed": false,
    "options": {
     "caption": false,
     "complete": true,
     "display_data": true,
     "display_stream": true,
     "dpi": 175,
     "echo": true,
     "evaluate": true,
     "f_env": null,
     "f_pos": "htpb",
     "f_size": [
      6,
      4
     ],
     "f_spines": true,
     "fig": true,
     "include": true,
     "name": "step_4_sql",
     "option_string": "name = \"step_4_sql\"",
     "results": "verbatim",
     "term": false,
     "wrap": false
    }
   },
   "outputs": [
    {
     "data": {
      "text/html": [
       "<table>\n",
       "<caption>Showing only top 5 rows</caption>\n",
       "<thead>\n",
       "<tr><th>month</th><th>data_cells</th><th>no_data_cells</th><th>min</th><th>max</th><th>mean</th><th>variance</th></tr>\n",
       "</thead>\n",
       "<tbody>\n",
       "<tr><td>1</td><td>65523</td><td>13</td><td>-0.2519809825673534</td><td>0.8644836272040303</td><td>0.4062596673810191</td><td>0.01407280838385605</td></tr>\n",
       "<tr><td>2</td><td>65521</td><td>15</td><td>-0.21232123212321233</td><td>0.8872390789756832</td><td>0.46738863804011127</td><td>0.011822698212885174</td></tr>\n",
       "<tr><td>3</td><td>64425</td><td>1111</td><td>-0.36211340206185566</td><td>0.9208261617900172</td><td>0.5811071411891395</td><td>0.011570245465885753</td></tr>\n",
       "<tr><td>4</td><td>64236</td><td>1300</td><td>-0.17252657399836469</td><td>0.922397476340694</td><td>0.5254596885897274</td><td>0.01087259231886667</td></tr>\n",
       "<tr><td>5</td><td>60819</td><td>4717</td><td>-0.19951338199513383</td><td>0.916626036079961</td><td>0.46471430090039234</td><td>0.01215478443067744</td></tr>\n",
       "</tbody>\n",
       "</table>"
      ],
      "text/markdown": [
       "\n",
       "_Showing only top 5 rows_.\n",
       "\n",
       "| month | data_cells | no_data_cells | min | max | mean | variance |\n",
       "|---|---|---|---|---|---|---|\n",
       "| 1 | 65523 | 13 | -0.2519809825673534 | 0.8644836272040303 | 0.4062596673810191 | 0.01407280838385605 |\n",
       "| 2 | 65521 | 15 | -0.21232123212321233 | 0.8872390789756832 | 0.46738863804011127 | 0.011822698212885174 |\n",
       "| 3 | 64425 | 1111 | -0.36211340206185566 | 0.9208261617900172 | 0.5811071411891395 | 0.011570245465885753 |\n",
       "| 4 | 64236 | 1300 | -0.17252657399836469 | 0.922397476340694 | 0.5254596885897274 | 0.01087259231886667 |\n",
       "| 5 | 60819 | 4717 | -0.19951338199513383 | 0.916626036079961 | 0.46471430090039234 | 0.01215478443067744 |"
      ],
      "text/plain": [
       "DataFrame[month: int, data_cells: bigint, no_data_cells: bigint, min: double, max: double, mean: double, variance: double]"
      ]
     },
     "execution_count": 1,
     "metadata": {},
     "output_type": "execute_result"
    }
   ],
   "source": [
    "grouped = sql(\"\"\"\n",
    "SELECT month, ndvi_stats.* FROM (\n",
    "    SELECT month, rf_agg_stats(rf_normalized_difference(nir, red)) as ndvi_stats\n",
    "    FROM red_nir_tiles_monthly_2017\n",
    "    WHERE st_intersects(st_reproject(rf_geometry(red), rf_crs(red), 'EPSG:4326'), st_makePoint(34.870605, -4.729727))\n",
    "    GROUP BY month\n",
    "    ORDER BY month\n",
    ")\n",
    "\"\"\")\n",
    "grouped"
   ]
  },
  {
   "cell_type": "markdown",
   "metadata": {
    "format": "text/markdown"
   },
   "source": [
    "\n",
    "## Scala\n",
    "\n",
    "The latest Scala API documentation is available here:\n",
    "\n",
    "* [Scala API Documentation](https://rasterframes.io/latest/api/index.html) \n",
    "\n",
    "\n",
    "### Step 1: Load the catalog\n",
    "\n",
    "```scala\n",
    "import geotrellis.proj4.LatLng\n",
    "import org.locationtech.rasterframes._\n",
    "import org.locationtech.rasterframes.datasource.raster._\n",
    "import org.apache.spark.sql._\n",
    "import org.apache.spark.sql.functions._\n",
    "\n",
    "\n",
    "implicit val spark = SparkSession.builder()\n",
    "  .master(\"local[*]\")\n",
    "  .appName(\"RasterFrames\")\n",
    "  .withKryoSerialization\n",
    "  .getOrCreate()\n",
    "  .withRasterFrames\n",
    "\n",
    "import spark.implicits._\n",
    "\n",
    "val modis = spark.read.format(\"aws-pds-modis-catalog\").load()\n",
    "```\n",
    "\n",
    "### Step 2: Down-select data by month\n",
    "\n",
    "```scala\n",
    "val red_nir_monthly_2017 = modis\n",
    "  .select($\"granule_id\", month($\"acquisition_date\") as \"month\", $\"B01\" as \"red\", $\"B02\" as \"nir\")\n",
    "  .where(year($\"acquisition_date\") === 2017 && (dayofmonth($\"acquisition_date\") === 15) && $\"granule_id\" === \"h21v09\")\n",
    "```\n",
    "\n",
    "### Step 3: Read tiles\n",
    "\n",
    "```scala\n",
    "val red_nir_tiles_monthly_2017 = spark.read.raster\n",
    "  .fromCatalog(red_nir_monthly_2017, \"red\", \"nir\")\n",
    "  .load()\n",
    "```\n",
    "\n",
    "### Step 4: Compute aggregates\n",
    "\n",
    "```scala\n",
    "val result = red_nir_tiles_monthly_2017\n",
    "  .where(st_intersects(\n",
    "    st_reproject(rf_geometry($\"red\"), rf_crs($\"red\"), LatLng),\n",
    "    st_makePoint(34.870605, -4.729727)\n",
    "  ))\n",
    "  .groupBy(\"month\")\n",
    "  .agg(rf_agg_stats(rf_normalized_difference($\"nir\", $\"red\")) as \"ndvi_stats\")\n",
    "  .orderBy(\"month\")\n",
    "  .select(\"month\", \"ndvi_stats.*\")\n",
    "  \n",
    "result.show()  \n",
    "```\n"
   ]
  }
 ],
 "metadata": {
  "kernel_info": {
   "name": "python3"
  },
  "language_info": {
   "name": "python"
  }
 },
 "nbformat": 4,
 "nbformat_minor": 0
}