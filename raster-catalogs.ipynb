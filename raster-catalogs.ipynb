{
 "cells": [
  {
   "cell_type": "markdown",
   "metadata": {
    "format": "text/markdown"
   },
   "source": [
    "# Raster Catalogs\n",
    "\n",
    "While interesting processing can be done on a @ref:[single raster file](raster-read.md#single-raster), RasterFrames shines when _catalogs_ of raster data are to be processed. In its simplest form, a _catalog_ is a list of @ref:[URLs referencing raster files](raster-read.md#uri-formats). This list can be a Spark DataFrame, Pandas DataFrame, CSV file or CSV string. The _catalog_ is input into the `raster` DataSource described in the @ref:[next page](raster-read.md), which creates _tiles_ from the rasters at the referenced URLs.\n",
    "\n",
    "A _catalog_ can have one or two dimensions:\n",
    "\n",
    "* One-D: A single column contains raster URLs across the rows. All referenced rasters represent the same @ref:[band](concepts.md#band). For example, a column of URLs to Landsat 8 near-infrared rasters covering Europe. Each row represents different places and times.\n",
    "* Two-D: Many columns contain raster URLs. Each column references the same band, and each row represents the same place and time. For example, red-, green-, and blue-band columns for scenes covering Europe. Each row represents a single @ref:[scene](concepts.md#scene) with the same resolution, extent, [_CRS_][CRS], etc across the row.\n",
    "\n",
    "## Creating a Catalog\n",
    "\n",
    "This section will provide some examples of _catalogs_ creation, as well as introduce some experimental _catalogs_ built into RasterFrames. Reading raster data represented by a _catalog_ is covered in more detail in the @ref:[next page](raster-read.md).\n",
    "\n"
   ]
  },
  {
   "cell_type": "code",
   "execution_count": 1,
   "metadata": {
    "autoscroll": "auto",
    "collapsed": false,
    "options": {
     "caption": false,
     "complete": true,
     "display_data": true,
     "display_stream": true,
     "dpi": 175,
     "echo": false,
     "evaluate": true,
     "f_env": null,
     "f_pos": "htpb",
     "f_size": [
      6,
      4
     ],
     "f_spines": true,
     "fig": true,
     "include": true,
     "name": "setup",
     "option_string": "name = \"setup\", echo=False",
     "results": "verbatim",
     "term": false,
     "wrap": false
    }
   },
   "outputs": [],
   "source": [
    "from pyrasterframes.utils import create_rf_spark_session\n",
    "from pyrasterframes.rasterfunctions import *\n",
    "import pyrasterframes.rf_ipython\n",
    "import pandas as pd\n",
    "spark = create_rf_spark_session()"
   ]
  },
  {
   "cell_type": "markdown",
   "metadata": {
    "format": "text/markdown"
   },
   "source": [
    "\n",
    "### One-D\n",
    "\n",
    "A single URL is the simplest form of a catalog.\n",
    "\n"
   ]
  },
  {
   "cell_type": "code",
   "execution_count": 2,
   "metadata": {
    "autoscroll": "auto",
    "collapsed": false,
    "options": {
     "caption": false,
     "complete": true,
     "display_data": true,
     "display_stream": true,
     "dpi": 175,
     "echo": true,
     "evaluate": true,
     "f_env": null,
     "f_pos": "htpb",
     "f_size": [
      6,
      4
     ],
     "f_spines": true,
     "fig": true,
     "include": true,
     "name": "oned_onerow_catalog",
     "option_string": "name = \"oned_onerow_catalog\"",
     "results": "verbatim",
     "term": false,
     "wrap": false
    }
   },
   "outputs": [],
   "source": [
    "file_uri = \"/data/raster/myfile.tif\"\n",
    "# Pandas DF\n",
    "my_cat = pd.DataFrame({'B01': [file_uri]})\n",
    "\n",
    "# equivalent Spark DF\n",
    "from pyspark.sql import Row\n",
    "my_cat = spark.createDataFrame([Row(B01=file_uri)])\n",
    "\n",
    "#equivalent CSV string\n",
    "my_cat = \"B01\\n{}\".format(file_uri)"
   ]
  },
  {
   "cell_type": "markdown",
   "metadata": {
    "format": "text/markdown"
   },
   "source": [
    "\n",
    "A single column represents the same content type with different observations along the rows. In this example it is band 1 of MODIS surface reflectance, which is visible red. In the example the location of the images is the same, indicated by the granule identifier `h04v09`, but the dates differ: 2018185 (July 4, 2018) and 2018188 (July 7, 2018).\n",
    "\n"
   ]
  },
  {
   "cell_type": "code",
   "execution_count": 3,
   "metadata": {
    "autoscroll": "auto",
    "collapsed": false,
    "options": {
     "caption": false,
     "complete": true,
     "display_data": true,
     "display_stream": true,
     "dpi": 175,
     "echo": true,
     "evaluate": true,
     "f_env": null,
     "f_pos": "htpb",
     "f_size": [
      6,
      4
     ],
     "f_spines": true,
     "fig": true,
     "include": true,
     "name": "oned_tworow_catalog",
     "option_string": "name = \"oned_tworow_catalog\"",
     "results": "verbatim",
     "term": false,
     "wrap": false
    }
   },
   "outputs": [],
   "source": [
    "scene1_B01 = \"https://modis-pds.s3.amazonaws.com/MCD43A4.006/04/09/2018185/MCD43A4.A2018185.h04v09.006.2018194032851_B01.TIF\"\n",
    "scene2_B01 = \"https://modis-pds.s3.amazonaws.com/MCD43A4.006/04/09/2018188/MCD43A4.A2018188.h04v09.006.2018198232008_B01.TIF\"\n",
    "\n",
    "# a pandas DF\n",
    "one_d_cat_pd = pd.DataFrame({'B01': [scene1_B01, scene2_B01]})\n",
    "\n",
    "# equivalent spark DF\n",
    "one_d_cat_df = spark.createDataFrame([Row(B01=scene1_B01), Row(B01=scene2_B01)])\n",
    "\n",
    "# equivalent CSV string\n",
    "one_d_cat_csv = '\\n'.join(['B01', scene1_B01, scene2_B01])"
   ]
  },
  {
   "cell_type": "markdown",
   "metadata": {
    "format": "text/markdown"
   },
   "source": [
    "\n",
    "This is what it looks like in DataFrame form:\n",
    "\n"
   ]
  },
  {
   "cell_type": "code",
   "execution_count": 4,
   "metadata": {
    "autoscroll": "auto",
    "collapsed": false,
    "options": {
     "caption": false,
     "complete": true,
     "display_data": true,
     "display_stream": true,
     "dpi": 175,
     "echo": true,
     "evaluate": true,
     "f_env": null,
     "f_pos": "htpb",
     "f_size": [
      6,
      4
     ],
     "f_spines": true,
     "fig": true,
     "include": true,
     "name": "view_spark_cat_1",
     "option_string": "name = \"view_spark_cat_1\"",
     "results": "verbatim",
     "term": false,
     "wrap": false
    }
   },
   "outputs": [
    {
     "data": {
      "text/html": [
       "<table>\n",
       "<thead>\n",
       "<tr><th>B01</th></tr>\n",
       "</thead>\n",
       "<tbody>\n",
       "<tr><td>https://modis-pds.s3.amazonaws.com/MCD43A4.006/04/09/2018185/MCD43A4.A2018185.h04v09.006.2018194032851_B01.TIF</td></tr>\n",
       "<tr><td>https://modis-pds.s3.amazonaws.com/MCD43A4.006/04/09/2018188/MCD43A4.A2018188.h04v09.006.2018198232008_B01.TIF</td></tr>\n",
       "</tbody>\n",
       "</table>"
      ],
      "text/markdown": [
       "| B01 |\n",
       "|---|\n",
       "| https://modis-pds.s3.amazonaws.com/MCD43A4.006/04/09/2018185/MCD43A4.A2018185.h04v09.006.2018194032851_B01.TIF |\n",
       "| https://modis-pds.s3.amazonaws.com/MCD43A4.006/04/09/2018188/MCD43A4.A2018188.h04v09.006.2018198232008_B01.TIF |"
      ],
      "text/plain": [
       "DataFrame[B01: string]"
      ]
     },
     "execution_count": 1,
     "metadata": {},
     "output_type": "execute_result"
    }
   ],
   "source": [
    "one_d_cat_df"
   ]
  },
  {
   "cell_type": "markdown",
   "metadata": {
    "format": "text/markdown"
   },
   "source": [
    "\n",
    "### Two-D\n",
    "\n",
    "In this example, multiple columns representing multiple content types (bands) across multiple scenes. In each row, the scene is the same: granule id `h04v09` on July 4 or July 7, 2018. The first column is band 1, red,  and the second is band 2, near infrared.\n",
    "\n"
   ]
  },
  {
   "cell_type": "code",
   "execution_count": 5,
   "metadata": {
    "autoscroll": "auto",
    "collapsed": false,
    "options": {
     "caption": false,
     "complete": true,
     "display_data": true,
     "display_stream": true,
     "dpi": 175,
     "echo": true,
     "evaluate": true,
     "f_env": null,
     "f_pos": "htpb",
     "f_size": [
      6,
      4
     ],
     "f_spines": true,
     "fig": true,
     "include": true,
     "name": "twod_catalog",
     "option_string": "name = \"twod_catalog\"",
     "results": "verbatim",
     "term": false,
     "wrap": false
    }
   },
   "outputs": [],
   "source": [
    "scene1_B01 = \"https://modis-pds.s3.amazonaws.com/MCD43A4.006/04/09/2018185/MCD43A4.A2018185.h04v09.006.2018194032851_B01.TIF\"\n",
    "scene1_B02 = \"https://modis-pds.s3.amazonaws.com/MCD43A4.006/04/09/2018185/MCD43A4.A2018185.h04v09.006.2018194032851_B02.TIF\"\n",
    "scene2_B01 = \"https://modis-pds.s3.amazonaws.com/MCD43A4.006/04/09/2018188/MCD43A4.A2018188.h04v09.006.2018198232008_B01.TIF\"\n",
    "scene2_B02 = \"https://modis-pds.s3.amazonaws.com/MCD43A4.006/04/09/2018188/MCD43A4.A2018188.h04v09.006.2018198232008_B02.TIF\"\n",
    "\n",
    "# Pandas DF\n",
    "two_d_cat_pd = pd.DataFrame([\n",
    "    {'B01': [scene1_B01], 'B02': [scene1_B02]},\n",
    "    {'B01': [scene2_B01], 'B02': [scene2_B02]}\n",
    "])     \n",
    "\n",
    "# or\n",
    "two_d_cat_df = spark.createDataFrame([\n",
    "    Row(B01=scene1_B01, B02=scene1_B02),\n",
    "    Row(B01=scene2_B01, B02=scene2_B02)\n",
    "])\n",
    "    \n",
    "# As CSV string\n",
    "tow_d_cat_csv = '\\n'.join(['B01,B02', scene1_B01 + \",\" + scene1_B02, scene2_B01 + \",\" + scene2_B02])"
   ]
  },
  {
   "cell_type": "markdown",
   "metadata": {
    "format": "text/markdown"
   },
   "source": [
    "\n",
    "This is what it looks like in DataFrame form:\n",
    "\n"
   ]
  },
  {
   "cell_type": "code",
   "execution_count": 6,
   "metadata": {
    "autoscroll": "auto",
    "collapsed": false,
    "options": {
     "caption": false,
     "complete": true,
     "display_data": true,
     "display_stream": true,
     "dpi": 175,
     "echo": true,
     "evaluate": true,
     "f_env": null,
     "f_pos": "htpb",
     "f_size": [
      6,
      4
     ],
     "f_spines": true,
     "fig": true,
     "include": true,
     "name": "view_spark_cat_1",
     "option_string": "name = \"view_spark_cat_1\"",
     "results": "verbatim",
     "term": false,
     "wrap": false
    }
   },
   "outputs": [
    {
     "data": {
      "text/html": [
       "<table>\n",
       "<thead>\n",
       "<tr><th>B01</th><th>B02</th></tr>\n",
       "</thead>\n",
       "<tbody>\n",
       "<tr><td>https://modis-pds.s3.amazonaws.com/MCD43A4.006/04/09/2018185/MCD43A4.A2018185.h04v09.006.2018194032851_B01.TIF</td><td>https://modis-pds.s3.amazonaws.com/MCD43A4.006/04/09/2018185/MCD43A4.A2018185.h04v09.006.2018194032851_B02.TIF</td></tr>\n",
       "<tr><td>https://modis-pds.s3.amazonaws.com/MCD43A4.006/04/09/2018188/MCD43A4.A2018188.h04v09.006.2018198232008_B01.TIF</td><td>https://modis-pds.s3.amazonaws.com/MCD43A4.006/04/09/2018188/MCD43A4.A2018188.h04v09.006.2018198232008_B02.TIF</td></tr>\n",
       "</tbody>\n",
       "</table>"
      ],
      "text/markdown": [
       "| B01 | B02 |\n",
       "|---|---|\n",
       "| https://modis-pds.s3.amazonaws.com/MCD43A4.006/04/09/2018185/MCD43A4.A2018185.h04v09.006.2018194032851_B01.TIF | https://modis-pds.s3.amazonaws.com/MCD43A4.006/04/09/2018185/MCD43A4.A2018185.h04v09.006.2018194032851_B02.TIF |\n",
       "| https://modis-pds.s3.amazonaws.com/MCD43A4.006/04/09/2018188/MCD43A4.A2018188.h04v09.006.2018198232008_B01.TIF | https://modis-pds.s3.amazonaws.com/MCD43A4.006/04/09/2018188/MCD43A4.A2018188.h04v09.006.2018198232008_B02.TIF |"
      ],
      "text/plain": [
       "DataFrame[B01: string, B02: string]"
      ]
     },
     "execution_count": 1,
     "metadata": {},
     "output_type": "execute_result"
    }
   ],
   "source": [
    "two_d_cat_df"
   ]
  },
  {
   "cell_type": "markdown",
   "metadata": {
    "format": "text/markdown"
   },
   "source": [
    "\n",
    "## Using External Catalogs\n",
    "\n",
    "The concept of a _catalog_ is much more powerful when we consider examples beyond constructing the DataFrame, and instead read the data from an external source. Here's an extended example of reading a cloud-hosted CSV file containing MODIS scene metadata and transforming it into a _catalog_. The metadata describing the content of each URL is an important aspect of processing raster data.\n",
    "\n"
   ]
  },
  {
   "cell_type": "code",
   "execution_count": 7,
   "metadata": {
    "autoscroll": "auto",
    "collapsed": false,
    "options": {
     "caption": false,
     "complete": true,
     "display_data": true,
     "display_stream": true,
     "dpi": 175,
     "echo": true,
     "evaluate": true,
     "f_env": null,
     "f_pos": "htpb",
     "f_size": [
      6,
      4
     ],
     "f_spines": true,
     "fig": true,
     "include": true,
     "name": "remote_csv",
     "option_string": "name = \"remote_csv\"",
     "results": "verbatim",
     "term": false,
     "wrap": false
    }
   },
   "outputs": [
    {
     "data": {
      "text/html": [
       "<table>\n",
       "<caption>Showing only top 5 rows</caption>\n",
       "<thead>\n",
       "<tr><th>date</th><th>download_url</th><th>gid</th></tr>\n",
       "</thead>\n",
       "<tbody>\n",
       "<tr><td>2018-07-04 00:00:00</td><td>https://modis-pds.s3.amazonaws.com/MCD43A4.006/04/09/2018185/index.html</td><td>MCD43A4.A2018185.h04v09.006.2018194032851</td></tr>\n",
       "<tr><td>2018-07-04 00:00:00</td><td>https://modis-pds.s3.amazonaws.com/MCD43A4.006/01/09/2018185/index.html</td><td>MCD43A4.A2018185.h01v09.006.2018194032819</td></tr>\n",
       "<tr><td>2018-07-04 00:00:00</td><td>https://modis-pds.s3.amazonaws.com/MCD43A4.006/06/03/2018185/index.html</td><td>MCD43A4.A2018185.h06v03.006.2018194032807</td></tr>\n",
       "<tr><td>2018-07-04 00:00:00</td><td>https://modis-pds.s3.amazonaws.com/MCD43A4.006/03/09/2018185/index.html</td><td>MCD43A4.A2018185.h03v09.006.2018194032826</td></tr>\n",
       "<tr><td>2018-07-04 00:00:00</td><td>https://modis-pds.s3.amazonaws.com/MCD43A4.006/08/09/2018185/index.html</td><td>MCD43A4.A2018185.h08v09.006.2018194032839</td></tr>\n",
       "</tbody>\n",
       "</table>"
      ],
      "text/markdown": [
       "\n",
       "_Showing only top 5 rows_.\n",
       "\n",
       "| date | download_url | gid |\n",
       "|---|---|---|\n",
       "| 2018-07-04 00:00:00 | https://modis-pds.s3.amazonaws.com/MCD43A4.006/04/09/2018185/index.html | MCD43A4.A2018185.h04v09.006.2018194032851 |\n",
       "| 2018-07-04 00:00:00 | https://modis-pds.s3.amazonaws.com/MCD43A4.006/01/09/2018185/index.html | MCD43A4.A2018185.h01v09.006.2018194032819 |\n",
       "| 2018-07-04 00:00:00 | https://modis-pds.s3.amazonaws.com/MCD43A4.006/06/03/2018185/index.html | MCD43A4.A2018185.h06v03.006.2018194032807 |\n",
       "| 2018-07-04 00:00:00 | https://modis-pds.s3.amazonaws.com/MCD43A4.006/03/09/2018185/index.html | MCD43A4.A2018185.h03v09.006.2018194032826 |\n",
       "| 2018-07-04 00:00:00 | https://modis-pds.s3.amazonaws.com/MCD43A4.006/08/09/2018185/index.html | MCD43A4.A2018185.h08v09.006.2018194032839 |"
      ],
      "text/plain": [
       "DataFrame[date: string, download_url: string, gid: string]"
      ]
     },
     "execution_count": 1,
     "metadata": {},
     "output_type": "execute_result"
    }
   ],
   "source": [
    "from pyspark import SparkFiles\n",
    "from pyspark.sql import functions as F\n",
    "\n",
    "spark.sparkContext.addFile(\"https://modis-pds.s3.amazonaws.com/MCD43A4.006/2018-07-04_scenes.txt\")\n",
    "\n",
    "scene_list = spark.read \\\n",
    "    .format(\"csv\") \\\n",
    "    .option(\"header\", \"true\") \\\n",
    "    .load(SparkFiles.get(\"2018-07-04_scenes.txt\"))\n",
    "scene_list"
   ]
  },
  {
   "cell_type": "markdown",
   "metadata": {
    "format": "text/markdown"
   },
   "source": [
    "\n",
    "Observe the scenes list file has URIs to `index.html` files in the download_url column. The image URI's are in the same directory. The filenames are of the form `${gid}_B${band}.TIF`. The next code chunk builds these URIs, which completes our catalog.\n",
    "\n",
    "\n"
   ]
  },
  {
   "cell_type": "code",
   "execution_count": 8,
   "metadata": {
    "autoscroll": "auto",
    "collapsed": false,
    "options": {
     "caption": false,
     "complete": true,
     "display_data": true,
     "display_stream": true,
     "dpi": 175,
     "echo": true,
     "evaluate": true,
     "f_env": null,
     "f_pos": "htpb",
     "f_size": [
      6,
      4
     ],
     "f_spines": true,
     "fig": true,
     "include": true,
     "name": "show_remote_catalog",
     "option_string": "name = \"show_remote_catalog\"",
     "results": "verbatim",
     "term": false,
     "wrap": false
    }
   },
   "outputs": [
    {
     "data": {
      "text/html": [
       "<table>\n",
       "<caption>Showing only top 5 rows</caption>\n",
       "<thead>\n",
       "<tr><th>date</th><th>download_url</th><th>gid</th><th>base_url</th><th>B01</th><th>B02</th><th>B03</th></tr>\n",
       "</thead>\n",
       "<tbody>\n",
       "<tr><td>2018-07-04 00:00:00</td><td>https://modis-pds.s3.amazonaws.com/MCD43A4.006/04/09/2018185/index.html</td><td>MCD43A4.A2018185.h04v09.006.2018194032851</td><td>https://modis-pds.s3.amazonaws.com/MCD43A4.006/04/09/2018185/MCD43A4.A2018185.h04v09.006.2018194032851</td><td>https://modis-pds.s3.amazonaws.com/MCD43A4.006/04/09/2018185/MCD43A4.A2018185.h04v09.006.2018194032851_B01.TIF</td><td>https://modis-pds.s3.amazonaws.com/MCD43A4.006/04/09/2018185/MCD43A4.A2018185.h04v09.006.2018194032851_B02.TIF</td><td>https://modis-pds.s3.amazonaws.com/MCD43A4.006/04/09/2018185/MCD43A4.A2018185.h04v09.006.2018194032851_B03.TIF</td></tr>\n",
       "<tr><td>2018-07-04 00:00:00</td><td>https://modis-pds.s3.amazonaws.com/MCD43A4.006/01/09/2018185/index.html</td><td>MCD43A4.A2018185.h01v09.006.2018194032819</td><td>https://modis-pds.s3.amazonaws.com/MCD43A4.006/01/09/2018185/MCD43A4.A2018185.h01v09.006.2018194032819</td><td>https://modis-pds.s3.amazonaws.com/MCD43A4.006/01/09/2018185/MCD43A4.A2018185.h01v09.006.2018194032819_B01.TIF</td><td>https://modis-pds.s3.amazonaws.com/MCD43A4.006/01/09/2018185/MCD43A4.A2018185.h01v09.006.2018194032819_B02.TIF</td><td>https://modis-pds.s3.amazonaws.com/MCD43A4.006/01/09/2018185/MCD43A4.A2018185.h01v09.006.2018194032819_B03.TIF</td></tr>\n",
       "<tr><td>2018-07-04 00:00:00</td><td>https://modis-pds.s3.amazonaws.com/MCD43A4.006/06/03/2018185/index.html</td><td>MCD43A4.A2018185.h06v03.006.2018194032807</td><td>https://modis-pds.s3.amazonaws.com/MCD43A4.006/06/03/2018185/MCD43A4.A2018185.h06v03.006.2018194032807</td><td>https://modis-pds.s3.amazonaws.com/MCD43A4.006/06/03/2018185/MCD43A4.A2018185.h06v03.006.2018194032807_B01.TIF</td><td>https://modis-pds.s3.amazonaws.com/MCD43A4.006/06/03/2018185/MCD43A4.A2018185.h06v03.006.2018194032807_B02.TIF</td><td>https://modis-pds.s3.amazonaws.com/MCD43A4.006/06/03/2018185/MCD43A4.A2018185.h06v03.006.2018194032807_B03.TIF</td></tr>\n",
       "<tr><td>2018-07-04 00:00:00</td><td>https://modis-pds.s3.amazonaws.com/MCD43A4.006/03/09/2018185/index.html</td><td>MCD43A4.A2018185.h03v09.006.2018194032826</td><td>https://modis-pds.s3.amazonaws.com/MCD43A4.006/03/09/2018185/MCD43A4.A2018185.h03v09.006.2018194032826</td><td>https://modis-pds.s3.amazonaws.com/MCD43A4.006/03/09/2018185/MCD43A4.A2018185.h03v09.006.2018194032826_B01.TIF</td><td>https://modis-pds.s3.amazonaws.com/MCD43A4.006/03/09/2018185/MCD43A4.A2018185.h03v09.006.2018194032826_B02.TIF</td><td>https://modis-pds.s3.amazonaws.com/MCD43A4.006/03/09/2018185/MCD43A4.A2018185.h03v09.006.2018194032826_B03.TIF</td></tr>\n",
       "<tr><td>2018-07-04 00:00:00</td><td>https://modis-pds.s3.amazonaws.com/MCD43A4.006/08/09/2018185/index.html</td><td>MCD43A4.A2018185.h08v09.006.2018194032839</td><td>https://modis-pds.s3.amazonaws.com/MCD43A4.006/08/09/2018185/MCD43A4.A2018185.h08v09.006.2018194032839</td><td>https://modis-pds.s3.amazonaws.com/MCD43A4.006/08/09/2018185/MCD43A4.A2018185.h08v09.006.2018194032839_B01.TIF</td><td>https://modis-pds.s3.amazonaws.com/MCD43A4.006/08/09/2018185/MCD43A4.A2018185.h08v09.006.2018194032839_B02.TIF</td><td>https://modis-pds.s3.amazonaws.com/MCD43A4.006/08/09/2018185/MCD43A4.A2018185.h08v09.006.2018194032839_B03.TIF</td></tr>\n",
       "</tbody>\n",
       "</table>"
      ],
      "text/markdown": [
       "\n",
       "_Showing only top 5 rows_.\n",
       "\n",
       "| date | download_url | gid | base_url | B01 | B02 | B03 |\n",
       "|---|---|---|---|---|---|---|\n",
       "| 2018-07-04 00:00:00 | https://modis-pds.s3.amazonaws.com/MCD43A4.006/04/09/2018185/index.html | MCD43A4.A2018185.h04v09.006.2018194032851 | https://modis-pds.s3.amazonaws.com/MCD43A4.006/04/09/2018185/MCD43A4.A2018185.h04v09.006.2018194032851 | https://modis-pds.s3.amazonaws.com/MCD43A4.006/04/09/2018185/MCD43A4.A2018185.h04v09.006.2018194032851_B01.TIF | https://modis-pds.s3.amazonaws.com/MCD43A4.006/04/09/2018185/MCD43A4.A2018185.h04v09.006.2018194032851_B02.TIF | https://modis-pds.s3.amazonaws.com/MCD43A4.006/04/09/2018185/MCD43A4.A2018185.h04v09.006.2018194032851_B03.TIF |\n",
       "| 2018-07-04 00:00:00 | https://modis-pds.s3.amazonaws.com/MCD43A4.006/01/09/2018185/index.html | MCD43A4.A2018185.h01v09.006.2018194032819 | https://modis-pds.s3.amazonaws.com/MCD43A4.006/01/09/2018185/MCD43A4.A2018185.h01v09.006.2018194032819 | https://modis-pds.s3.amazonaws.com/MCD43A4.006/01/09/2018185/MCD43A4.A2018185.h01v09.006.2018194032819_B01.TIF | https://modis-pds.s3.amazonaws.com/MCD43A4.006/01/09/2018185/MCD43A4.A2018185.h01v09.006.2018194032819_B02.TIF | https://modis-pds.s3.amazonaws.com/MCD43A4.006/01/09/2018185/MCD43A4.A2018185.h01v09.006.2018194032819_B03.TIF |\n",
       "| 2018-07-04 00:00:00 | https://modis-pds.s3.amazonaws.com/MCD43A4.006/06/03/2018185/index.html | MCD43A4.A2018185.h06v03.006.2018194032807 | https://modis-pds.s3.amazonaws.com/MCD43A4.006/06/03/2018185/MCD43A4.A2018185.h06v03.006.2018194032807 | https://modis-pds.s3.amazonaws.com/MCD43A4.006/06/03/2018185/MCD43A4.A2018185.h06v03.006.2018194032807_B01.TIF | https://modis-pds.s3.amazonaws.com/MCD43A4.006/06/03/2018185/MCD43A4.A2018185.h06v03.006.2018194032807_B02.TIF | https://modis-pds.s3.amazonaws.com/MCD43A4.006/06/03/2018185/MCD43A4.A2018185.h06v03.006.2018194032807_B03.TIF |\n",
       "| 2018-07-04 00:00:00 | https://modis-pds.s3.amazonaws.com/MCD43A4.006/03/09/2018185/index.html | MCD43A4.A2018185.h03v09.006.2018194032826 | https://modis-pds.s3.amazonaws.com/MCD43A4.006/03/09/2018185/MCD43A4.A2018185.h03v09.006.2018194032826 | https://modis-pds.s3.amazonaws.com/MCD43A4.006/03/09/2018185/MCD43A4.A2018185.h03v09.006.2018194032826_B01.TIF | https://modis-pds.s3.amazonaws.com/MCD43A4.006/03/09/2018185/MCD43A4.A2018185.h03v09.006.2018194032826_B02.TIF | https://modis-pds.s3.amazonaws.com/MCD43A4.006/03/09/2018185/MCD43A4.A2018185.h03v09.006.2018194032826_B03.TIF |\n",
       "| 2018-07-04 00:00:00 | https://modis-pds.s3.amazonaws.com/MCD43A4.006/08/09/2018185/index.html | MCD43A4.A2018185.h08v09.006.2018194032839 | https://modis-pds.s3.amazonaws.com/MCD43A4.006/08/09/2018185/MCD43A4.A2018185.h08v09.006.2018194032839 | https://modis-pds.s3.amazonaws.com/MCD43A4.006/08/09/2018185/MCD43A4.A2018185.h08v09.006.2018194032839_B01.TIF | https://modis-pds.s3.amazonaws.com/MCD43A4.006/08/09/2018185/MCD43A4.A2018185.h08v09.006.2018194032839_B02.TIF | https://modis-pds.s3.amazonaws.com/MCD43A4.006/08/09/2018185/MCD43A4.A2018185.h08v09.006.2018194032839_B03.TIF |"
      ],
      "text/plain": [
       "DataFrame[date: string, download_url: string, gid: string, base_url: string, B01: string, B02: string, B03: string]"
      ]
     },
     "execution_count": 1,
     "metadata": {},
     "output_type": "execute_result"
    }
   ],
   "source": [
    "modis_catalog = scene_list \\\n",
    "    .withColumn('base_url',\n",
    "        F.concat(F.regexp_replace('download_url', 'index.html$', ''), 'gid',)\n",
    "    ) \\\n",
    "    .withColumn('B01' , F.concat('base_url', F.lit(\"_B01.TIF\"))) \\\n",
    "    .withColumn('B02' , F.concat('base_url', F.lit(\"_B02.TIF\"))) \\\n",
    "    .withColumn('B03' , F.concat('base_url', F.lit(\"_B03.TIF\")))\n",
    "modis_catalog"
   ]
  },
  {
   "cell_type": "markdown",
   "metadata": {
    "format": "text/markdown"
   },
   "source": [
    "\n",
    "## Using Built-in Catalogs\n",
    "\n",
    "RasterFrames comes with two experimental catalogs over the AWS PDS [Landsat 8][Landsat] and [MODIS][MODIS] repositories. They are created by downloading the latest scene lists and building up the appropriate band URI columns as in the prior example.\n",
    "\n",
    "> Note: The first time you run these may take some time, as the catalogs are large and have to be downloaded. However, they are cached and subsequent invocations should be faster.\n",
    "\n",
    "### MODIS\n",
    "\n"
   ]
  },
  {
   "cell_type": "code",
   "execution_count": 9,
   "metadata": {
    "autoscroll": "auto",
    "collapsed": false,
    "options": {
     "caption": false,
     "complete": true,
     "display_data": true,
     "display_stream": true,
     "dpi": 175,
     "echo": true,
     "evaluate": false,
     "f_env": null,
     "f_pos": "htpb",
     "f_size": [
      6,
      4
     ],
     "f_spines": true,
     "fig": true,
     "include": true,
     "name": null,
     "option_string": "evaluate=False",
     "results": "verbatim",
     "term": false,
     "wrap": false
    }
   },
   "outputs": "",
   "source": [
    "modis_catalog = spark.read.format('aws-pds-modis-catalog').load()\n",
    "modis_catalog.printSchema()"
   ]
  },
  {
   "cell_type": "markdown",
   "metadata": {
    "format": "text/markdown"
   },
   "source": [
    "```\n",
    "root\n",
    " |-- product_id: string (nullable = false)\n",
    " |-- acquisition_date: timestamp (nullable = false)\n",
    " |-- granule_id: string (nullable = false)\n",
    " |-- gid: string (nullable = false)\n",
    " |-- B01: string (nullable = true)\n",
    " |-- B01qa: string (nullable = true)\n",
    " |-- B02: string (nullable = true)\n",
    " |-- B02qa: string (nullable = true)\n",
    " |-- B03: string (nullable = true)\n",
    " |-- B03aq: string (nullable = true)\n",
    " |-- B04: string (nullable = true)\n",
    " |-- B04qa: string (nullable = true)\n",
    " |-- B05: string (nullable = true)\n",
    " |-- B05qa: string (nullable = true)\n",
    " |-- B06: string (nullable = true)\n",
    " |-- B06qa: string (nullable = true)\n",
    " |-- B07: string (nullable = true)\n",
    " |-- B07qa: string (nullable = true)\n",
    "```\n",
    "\n",
    "### Landsat 8\n",
    "\n",
    "The Landsat 8 catalog includes a richer set of metadata describing the contents of each scene.\n",
    "\n"
   ]
  },
  {
   "cell_type": "code",
   "execution_count": 10,
   "metadata": {
    "autoscroll": "auto",
    "collapsed": false,
    "options": {
     "caption": false,
     "complete": true,
     "display_data": true,
     "display_stream": true,
     "dpi": 175,
     "echo": true,
     "evaluate": false,
     "f_env": null,
     "f_pos": "htpb",
     "f_size": [
      6,
      4
     ],
     "f_spines": true,
     "fig": true,
     "include": true,
     "name": null,
     "option_string": "evaluate=False",
     "results": "verbatim",
     "term": false,
     "wrap": false
    }
   },
   "outputs": "",
   "source": [
    "l8 = spark.read.format('aws-pds-l8-catalog').load()\n",
    "l8.printSchema()"
   ]
  },
  {
   "cell_type": "markdown",
   "metadata": {
    "format": "text/markdown"
   },
   "source": [
    "```\n",
    "root\n",
    " |-- product_id: string (nullable = false)\n",
    " |-- entity_id: string (nullable = false)\n",
    " |-- acquisition_date: timestamp (nullable = false)\n",
    " |-- cloud_cover_pct: float (nullable = false)\n",
    " |-- processing_level: string (nullable = false)\n",
    " |-- path: short (nullable = false)\n",
    " |-- row: short (nullable = false)\n",
    " |-- bounds_wgs84: struct (nullable = false)\n",
    " |    |-- minX: double (nullable = false)\n",
    " |    |-- maxX: double (nullable = false)\n",
    " |    |-- minY: double (nullable = false)\n",
    " |    |-- maxY: double (nullable = false)\n",
    " |-- B1: string (nullable = true)\n",
    " |-- B2: string (nullable = true)\n",
    " |-- B3: string (nullable = true)\n",
    " |-- B4: string (nullable = true)\n",
    " |-- B5: string (nullable = true)\n",
    " |-- B6: string (nullable = true)\n",
    " |-- B7: string (nullable = true)\n",
    " |-- B8: string (nullable = true)\n",
    " |-- B9: string (nullable = true)\n",
    " |-- B10: string (nullable = true)\n",
    " |-- B11: string (nullable = true)\n",
    " |-- BQA: string (nullable = true)\n",
    "```\n",
    "\n",
    "[MODIS]: https://docs.opendata.aws/modis-pds/readme.html\n",
    "[Landsat]: https://docs.opendata.aws/landsat-pds/readme.html\n",
    "[CRS]: https://en.wikipedia.org/wiki/Spatial_reference_system\n"
   ]
  }
 ],
 "metadata": {
  "kernel_info": {
   "name": "python3"
  },
  "language_info": {
   "name": "python"
  }
 },
 "nbformat": 4,
 "nbformat_minor": 0
}