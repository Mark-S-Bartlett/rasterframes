{
 "cells": [
  {
   "cell_type": "markdown",
   "metadata": {
    "format": "text/markdown"
   },
   "source": [
    "# \"NoData\" Handling\n",
    "\n",
    "## What is NoData?\n",
    "\n",
    "In raster operations, the preservation and correct processing of missing observations is very important. In [most DataFrames and in scientific computing](https://www.oreilly.com/learning/handling-missing-data), the idea of missing data is expressed as a `null` or `NaN` value. However, a great deal of raster data is stored for space efficiency, which typically leads to use of integral values with a [\"sentinel\" value](https://en.wikipedia.org/wiki/Sentinel_value) designated to represent missing observations. This sentinel value varies across data products and bands. In a generic sense, it is usually called the \"NoData\" value.\n",
    "\n",
    "RasterFrames provides a variety of functions to inspect and manage NoData within _tiles_.\n",
    "\n",
    "## Cell Types\n",
    "\n",
    "To understand how NoData is handled in RasterFrames, we first need to understand the different underlying types of data called cell types. RasterFrames cell types are GeoTrellis `CellType`s, so the [GeoTrellis documentation](https://geotrellis.readthedocs.io/en/latest/guide/core-concepts.html?#working-with-cell-values) is a valuable resource on how these are defined.\n",
    "\n"
   ]
  },
  {
   "cell_type": "code",
   "execution_count": 1,
   "metadata": {
    "autoscroll": "auto",
    "collapsed": false,
    "options": {
     "caption": false,
     "complete": true,
     "display_data": true,
     "display_stream": true,
     "dpi": 175,
     "echo": false,
     "evaluate": true,
     "f_env": null,
     "f_pos": "htpb",
     "f_size": [
      6,
      4
     ],
     "f_spines": true,
     "fig": true,
     "include": true,
     "name": "setup",
     "option_string": "name = \"setup\", echo=False",
     "results": "verbatim",
     "term": false,
     "wrap": false
    }
   },
   "outputs": [],
   "source": [
    "import pyrasterframes\n",
    "from pyrasterframes.utils import create_rf_spark_session\n",
    "from pyrasterframes.rasterfunctions import *\n",
    "import pyrasterframes.rf_ipython\n",
    "from IPython.display import display\n",
    "import pandas as pd\n",
    "import numpy as np\n",
    "from pyrasterframes.rf_types import Tile\n",
    "\n",
    "spark = create_rf_spark_session()"
   ]
  },
  {
   "cell_type": "markdown",
   "metadata": {
    "format": "text/markdown"
   },
   "source": [
    "\n",
    "The `CellType` class from the `rf_types` submodule allows us to create a representation of any valid cell type. There are convenience methods to create instances for a variety of basic types.\n",
    "\n"
   ]
  },
  {
   "cell_type": "code",
   "execution_count": 2,
   "metadata": {
    "autoscroll": "auto",
    "collapsed": false,
    "options": {
     "caption": false,
     "complete": true,
     "display_data": true,
     "display_stream": true,
     "dpi": 175,
     "echo": true,
     "evaluate": true,
     "f_env": null,
     "f_pos": "htpb",
     "f_size": [
      6,
      4
     ],
     "f_spines": true,
     "fig": true,
     "include": true,
     "name": "celltype_ctors",
     "option_string": "name = \"celltype_ctors\", results='hidden'",
     "results": "hidden",
     "term": false,
     "wrap": false
    }
   },
   "outputs": [
    {
     "data": {
      "text/plain": [
       "float64"
      ]
     },
     "execution_count": 1,
     "metadata": {},
     "output_type": "execute_result"
    }
   ],
   "source": [
    "from pyrasterframes.rf_types import CellType\n",
    "CellType.bool()\n",
    "CellType.int8()\n",
    "CellType.uint8()\n",
    "CellType.int16()\n",
    "CellType.uint16()\n",
    "CellType.int32()\n",
    "CellType.float32()\n",
    "CellType.float64()"
   ]
  },
  {
   "cell_type": "markdown",
   "metadata": {
    "format": "text/markdown"
   },
   "source": [
    "\n",
    "We can also inspect the cell type of a given _tile_ or `proj_raster` column.\n",
    "\n"
   ]
  },
  {
   "cell_type": "code",
   "execution_count": 3,
   "metadata": {
    "autoscroll": "auto",
    "collapsed": false,
    "options": {
     "caption": false,
     "complete": true,
     "display_data": true,
     "display_stream": true,
     "dpi": 175,
     "echo": true,
     "evaluate": true,
     "f_env": null,
     "f_pos": "htpb",
     "f_size": [
      6,
      4
     ],
     "f_spines": true,
     "fig": true,
     "include": true,
     "name": "ct_from_sen",
     "option_string": "name = \"ct_from_sen\"",
     "results": "verbatim",
     "term": false,
     "wrap": false
    }
   },
   "outputs": [
    {
     "data": {
      "text/html": [
       "<table>\n",
       "<thead>\n",
       "<tr><th>rf_cell_type(proj_raster)</th></tr>\n",
       "</thead>\n",
       "<tbody>\n",
       "<tr><td>[uint16raw]</td></tr>\n",
       "</tbody>\n",
       "</table>"
      ],
      "text/markdown": [
       "| rf_cell_type(proj_raster) |\n",
       "|---|\n",
       "| \\[uint16raw] |"
      ],
      "text/plain": [
       "DataFrame[rf_cell_type(proj_raster): struct<cellTypeName:string>]"
      ]
     },
     "execution_count": 1,
     "metadata": {},
     "output_type": "execute_result"
    }
   ],
   "source": [
    "cell_types = spark.read.raster('https://s22s-test-geotiffs.s3.amazonaws.com/luray_snp/B02.tif') \\\n",
    "    .select(rf_cell_type('proj_raster')).distinct()\n",
    "cell_types"
   ]
  },
  {
   "cell_type": "markdown",
   "metadata": {
    "format": "text/markdown"
   },
   "source": [
    "\n",
    "### Understanding Cell Types and NoData\n",
    "\n",
    "We can use the methods on the `CellType` class to learn more about a specific cell type. Let's consider the cell type of our sample data above.\n",
    "\n"
   ]
  },
  {
   "cell_type": "code",
   "execution_count": 4,
   "metadata": {
    "autoscroll": "auto",
    "collapsed": false,
    "options": {
     "caption": false,
     "complete": true,
     "display_data": true,
     "display_stream": true,
     "dpi": 175,
     "echo": true,
     "evaluate": true,
     "f_env": null,
     "f_pos": "htpb",
     "f_size": [
      6,
      4
     ],
     "f_spines": true,
     "fig": true,
     "include": true,
     "name": "raw_example",
     "option_string": "name = \"raw_example\"",
     "results": "verbatim",
     "term": false,
     "wrap": false
    }
   },
   "outputs": [
    {
     "data": {
      "text/plain": [
       "(uint16raw, False, False)"
      ]
     },
     "execution_count": 1,
     "metadata": {},
     "output_type": "execute_result"
    }
   ],
   "source": [
    "ct = CellType('uint16raw')\n",
    "ct, ct.is_floating_point(), ct.has_no_data()"
   ]
  },
  {
   "cell_type": "markdown",
   "metadata": {
    "format": "text/markdown"
   },
   "source": [
    "\n",
    "We can see that for the above data source, there is no defined NoData value. This means that each value is interpreted as a valid observation. Often such data is meant to be combined with another band indicating the quality of observations at each location. The lack of NoData is indicated by the `raw` at the end of the type name. Consider for contrast the `uint16` cell type.\n",
    "\n"
   ]
  },
  {
   "cell_type": "code",
   "execution_count": 5,
   "metadata": {
    "autoscroll": "auto",
    "collapsed": false,
    "options": {
     "caption": false,
     "complete": true,
     "display_data": true,
     "display_stream": true,
     "dpi": 175,
     "echo": true,
     "evaluate": true,
     "f_env": null,
     "f_pos": "htpb",
     "f_size": [
      6,
      4
     ],
     "f_spines": true,
     "fig": true,
     "include": true,
     "name": "non_raw_example",
     "option_string": "name = \"non_raw_example\"",
     "results": "verbatim",
     "term": false,
     "wrap": false
    }
   },
   "outputs": [
    {
     "data": {
      "text/plain": [
       "(uint16, False, True, 0)"
      ]
     },
     "execution_count": 1,
     "metadata": {},
     "output_type": "execute_result"
    }
   ],
   "source": [
    "from pyrasterframes.rf_types import CellType\n",
    "ct = CellType('uint16')\n",
    "ct, ct.is_floating_point(), ct.has_no_data(), ct.no_data_value()"
   ]
  },
  {
   "cell_type": "markdown",
   "metadata": {
    "format": "text/markdown"
   },
   "source": [
    "\n",
    "In this case, the minimum value of 0 is designated as the NoData value. For integral-valued cell types, the NoData is typically zero, the maximum, or the minimum value for the underlying data type. The NoData value can also be a user-defined value. In that case the value is designated with `ud`.\n",
    "\n"
   ]
  },
  {
   "cell_type": "code",
   "execution_count": 6,
   "metadata": {
    "autoscroll": "auto",
    "collapsed": false,
    "options": {
     "caption": false,
     "complete": true,
     "display_data": true,
     "display_stream": true,
     "dpi": 175,
     "echo": true,
     "evaluate": true,
     "f_env": null,
     "f_pos": "htpb",
     "f_size": [
      6,
      4
     ],
     "f_spines": true,
     "fig": true,
     "include": true,
     "name": "cell_type_name",
     "option_string": "name = \"cell_type_name\"",
     "results": "verbatim",
     "term": false,
     "wrap": false
    }
   },
   "outputs": [
    {
     "data": {
      "text/plain": [
       "'uint16ud99'"
      ]
     },
     "execution_count": 1,
     "metadata": {},
     "output_type": "execute_result"
    }
   ],
   "source": [
    "CellType.uint16().with_no_data_value(99).cell_type_name"
   ]
  },
  {
   "cell_type": "markdown",
   "metadata": {
    "format": "text/markdown"
   },
   "source": [
    "\n",
    "Floating point types have `NaN` as the NoData value by default. However, a user-defined NoData can be set.\n",
    "\n"
   ]
  },
  {
   "cell_type": "code",
   "execution_count": 7,
   "metadata": {
    "autoscroll": "auto",
    "collapsed": false,
    "options": {
     "caption": false,
     "complete": true,
     "display_data": true,
     "display_stream": true,
     "dpi": 175,
     "echo": true,
     "evaluate": true,
     "f_env": null,
     "f_pos": "htpb",
     "f_size": [
      6,
      4
     ],
     "f_spines": true,
     "fig": true,
     "include": true,
     "name": "float_ud",
     "option_string": "name = \"float_ud\"",
     "results": "verbatim",
     "term": false,
     "wrap": false
    }
   },
   "outputs": [
    {
     "name": "stdout",
     "output_type": "stream",
     "text": [
      "nan\n",
      "-99.9\n"
     ]
    }
   ],
   "source": [
    "print(CellType.float32().no_data_value())\n",
    "print(CellType.float32().with_no_data_value(-99.9).no_data_value())"
   ]
  },
  {
   "cell_type": "markdown",
   "metadata": {
    "format": "text/markdown"
   },
   "source": [
    "\n",
    "## NoData and Local Arithmetic\n",
    "\n",
    "Let's now explore how the presence of NoData affects @ref:[local map algebra](local-algebra.md) operations. To demonstrate the behavior, lets create two _tiles_. One _tile_ will have values of 0 and 1, and the other will have values of just 0.\n",
    "\n"
   ]
  },
  {
   "cell_type": "code",
   "execution_count": 8,
   "metadata": {
    "autoscroll": "auto",
    "collapsed": false,
    "options": {
     "caption": false,
     "complete": true,
     "display_data": true,
     "display_stream": true,
     "dpi": 175,
     "echo": true,
     "evaluate": true,
     "f_env": null,
     "f_pos": "htpb",
     "f_size": [
      6,
      4
     ],
     "f_spines": true,
     "fig": true,
     "include": true,
     "name": "local_arith",
     "option_string": "name = \"local_arith\"",
     "results": "verbatim",
     "term": false,
     "wrap": false
    }
   },
   "outputs": [
    {
     "name": "stdout",
     "output_type": "stream",
     "text": [
      "x\n"
     ]
    },
    {
     "data": {
      "image/png": "[encoded data removed]",
      "text/plain": [
       "Tile(masked_array(\n",
       "  data=[[0, 0, 0, ..., 1, 1, 1],\n",
       "        [0, 0, 0, ..., 1, 1, 1],\n",
       "        [0, 0, 0, ..., 1, 1, 1],\n",
       "        ...,\n",
       "        [0, 0, 0, ..., 1, 1, 1],\n",
       "        [0, 0, 0, ..., 1, 1, 1],\n",
       "        [0, 0, 0, ..., 1, 1, 1]],\n",
       "  mask=False,\n",
       "  fill_value=-32768,\n",
       "  dtype=int16), int16)"
      ]
     },
     "metadata": {},
     "output_type": "display_data"
    }
   ],
   "source": [
    "tile_size = 100\n",
    "x = np.zeros((tile_size, tile_size), dtype='int16')\n",
    "x[:,tile_size//2:] = 1\n",
    "x = Tile(x)\n",
    "y = Tile(np.zeros((tile_size, tile_size), dtype='int16'))\n",
    "\n",
    "rf = spark.createDataFrame([Row(x=x, y=y)])\n",
    "print('x')\n",
    "display(x)"
   ]
  },
  {
   "cell_type": "markdown",
   "metadata": {
    "format": "text/markdown"
   },
   "source": [
    "\n"
   ]
  },
  {
   "cell_type": "code",
   "execution_count": 9,
   "metadata": {
    "autoscroll": "auto",
    "collapsed": false,
    "options": {
     "caption": false,
     "complete": true,
     "display_data": true,
     "display_stream": true,
     "dpi": 175,
     "echo": true,
     "evaluate": true,
     "f_env": null,
     "f_pos": "htpb",
     "f_size": [
      6,
      4
     ],
     "f_spines": true,
     "fig": true,
     "include": true,
     "name": "display_1",
     "option_string": "name = \"display_1\"",
     "results": "verbatim",
     "term": false,
     "wrap": false
    }
   },
   "outputs": [
    {
     "name": "stdout",
     "output_type": "stream",
     "text": [
      "y\n"
     ]
    },
    {
     "name": "stderr",
     "output_type": "stream",
     "text": [
      "/anaconda3/envs/rf-docs/lib/python3.7/site-packages/matplotlib/image.py:405: UserWarning: Warning: converting a masked element to nan.\n",
      "  dv = (np.float64(self.norm.vmax) -\n",
      "/anaconda3/envs/rf-docs/lib/python3.7/site-packages/matplotlib/image.py:406: UserWarning: Warning: converting a masked element to nan.\n",
      "  np.float64(self.norm.vmin))\n",
      "/anaconda3/envs/rf-docs/lib/python3.7/site-packages/matplotlib/image.py:413: UserWarning: Warning: converting a masked element to nan.\n",
      "  a_min = np.float64(newmin)\n",
      "/anaconda3/envs/rf-docs/lib/python3.7/site-packages/matplotlib/image.py:418: UserWarning: Warning: converting a masked element to nan.\n",
      "  a_max = np.float64(newmax)\n",
      "<string>:6: UserWarning: Warning: converting a masked element to nan.\n",
      "/anaconda3/envs/rf-docs/lib/python3.7/site-packages/numpy/ma/core.py:722: UserWarning: Warning: converting a masked element to nan.\n",
      "  data = np.array(a, copy=False, subok=subok)\n"
     ]
    },
    {
     "data": {
      "image/png": "[encoded data removed]",
      "text/plain": [
       "Tile(masked_array(\n",
       "  data=[[0, 0, 0, ..., 0, 0, 0],\n",
       "        [0, 0, 0, ..., 0, 0, 0],\n",
       "        [0, 0, 0, ..., 0, 0, 0],\n",
       "        ...,\n",
       "        [0, 0, 0, ..., 0, 0, 0],\n",
       "        [0, 0, 0, ..., 0, 0, 0],\n",
       "        [0, 0, 0, ..., 0, 0, 0]],\n",
       "  mask=False,\n",
       "  fill_value=-32768,\n",
       "  dtype=int16), int16)"
      ]
     },
     "metadata": {},
     "output_type": "display_data"
    }
   ],
   "source": [
    "print('y')\n",
    "display(y)"
   ]
  },
  {
   "cell_type": "markdown",
   "metadata": {
    "format": "text/markdown"
   },
   "source": [
    "\n",
    "Now, let's create a new column from `x` with the value of 1 changed to NoData. Then, we will add this new column with NoData to the `y` column. As shown below, the result of the sum also has NoData (represented in white). In general for local algebra operations, Data + NoData = NoData.\n",
    "\n"
   ]
  },
  {
   "cell_type": "code",
   "execution_count": 10,
   "metadata": {
    "autoscroll": "auto",
    "collapsed": false,
    "options": {
     "caption": false,
     "complete": true,
     "display_data": true,
     "display_stream": true,
     "dpi": 175,
     "echo": true,
     "evaluate": true,
     "f_env": null,
     "f_pos": "htpb",
     "f_size": [
      6,
      4
     ],
     "f_spines": true,
     "fig": true,
     "include": true,
     "name": "display_2",
     "option_string": "name = \"display_2\"",
     "results": "verbatim",
     "term": false,
     "wrap": false
    }
   },
   "outputs": [
    {
     "name": "stdout",
     "output_type": "stream",
     "text": [
      "x with NoData\n"
     ]
    },
    {
     "data": {
      "image/png": "[encoded data removed]",
      "text/plain": [
       "Tile(masked_array(\n",
       "  data=[[0, 0, 0, ..., --, --, --],\n",
       "        [0, 0, 0, ..., --, --, --],\n",
       "        [0, 0, 0, ..., --, --, --],\n",
       "        ...,\n",
       "        [0, 0, 0, ..., --, --, --],\n",
       "        [0, 0, 0, ..., --, --, --],\n",
       "        [0, 0, 0, ..., --, --, --]],\n",
       "  mask=[[False, False, False, ...,  True,  True,  True],\n",
       "        [False, False, False, ...,  True,  True,  True],\n",
       "        [False, False, False, ...,  True,  True,  True],\n",
       "        ...,\n",
       "        [False, False, False, ...,  True,  True,  True],\n",
       "        [False, False, False, ...,  True,  True,  True],\n",
       "        [False, False, False, ...,  True,  True,  True]],\n",
       "  fill_value=-32768,\n",
       "  dtype=int16), int16)"
      ]
     },
     "metadata": {},
     "output_type": "display_data"
    }
   ],
   "source": [
    "masked_rf = rf.withColumn('x_nd', rf_mask_by_value('x', 'x', lit(1)) )\n",
    "masked_rf = masked_rf.withColumn('x_nd_y_sum', rf_local_add('x_nd', 'y'))\n",
    "row = masked_rf.collect()[0]\n",
    "print('x with NoData')\n",
    "display(row.x_nd)"
   ]
  },
  {
   "cell_type": "markdown",
   "metadata": {
    "format": "text/markdown"
   },
   "source": [
    "\n"
   ]
  },
  {
   "cell_type": "code",
   "execution_count": 11,
   "metadata": {
    "autoscroll": "auto",
    "collapsed": false,
    "options": {
     "caption": false,
     "complete": true,
     "display_data": true,
     "display_stream": true,
     "dpi": 175,
     "echo": true,
     "evaluate": true,
     "f_env": null,
     "f_pos": "htpb",
     "f_size": [
      6,
      4
     ],
     "f_spines": true,
     "fig": true,
     "include": true,
     "name": "display_3",
     "option_string": "name = \"display_3\"",
     "results": "verbatim",
     "term": false,
     "wrap": false
    }
   },
   "outputs": [
    {
     "name": "stdout",
     "output_type": "stream",
     "text": [
      "x with NoData plus y\n"
     ]
    },
    {
     "data": {
      "image/png": "[encoded data removed]",
      "text/plain": [
       "Tile(masked_array(\n",
       "  data=[[0, 0, 0, ..., --, --, --],\n",
       "        [0, 0, 0, ..., --, --, --],\n",
       "        [0, 0, 0, ..., --, --, --],\n",
       "        ...,\n",
       "        [0, 0, 0, ..., --, --, --],\n",
       "        [0, 0, 0, ..., --, --, --],\n",
       "        [0, 0, 0, ..., --, --, --]],\n",
       "  mask=[[False, False, False, ...,  True,  True,  True],\n",
       "        [False, False, False, ...,  True,  True,  True],\n",
       "        [False, False, False, ...,  True,  True,  True],\n",
       "        ...,\n",
       "        [False, False, False, ...,  True,  True,  True],\n",
       "        [False, False, False, ...,  True,  True,  True],\n",
       "        [False, False, False, ...,  True,  True,  True]],\n",
       "  fill_value=-32768,\n",
       "  dtype=int16), int16)"
      ]
     },
     "metadata": {},
     "output_type": "display_data"
    }
   ],
   "source": [
    "print('x with NoData plus y')\n",
    "display(row.x_nd_y_sum)"
   ]
  },
  {
   "cell_type": "markdown",
   "metadata": {
    "format": "text/markdown"
   },
   "source": [
    "To see more information about possible operations on _tile_ columns, see the @ref:[local map algebra](local-algebra.md) page and @ref:[function reference](reference.md#local-map-algebra).\n",
    "\n",
    "## Changing a Tile's NoData Values\n",
    "\n",
    "One way to mask a _tile_ is to make a new _tile_ with a user defined NoData value. We will explore this method below. First, lets create a DataFrame from a _tile_ with values of 0, 1, 2, and 3. We will use numpy to create a 100x100 _tile_ with vertical bands containing values 0, 1, 2, and 3.\n",
    "\n"
   ]
  },
  {
   "cell_type": "code",
   "execution_count": 12,
   "metadata": {
    "autoscroll": "auto",
    "collapsed": false,
    "options": {
     "caption": "Dummy Tile",
     "complete": true,
     "display_data": true,
     "display_stream": true,
     "dpi": 175,
     "echo": true,
     "evaluate": true,
     "f_env": null,
     "f_pos": "htpb",
     "f_size": [
      6,
      4
     ],
     "f_spines": true,
     "fig": true,
     "include": true,
     "name": "create_dummy_tile",
     "option_string": "name = \"create_dummy_tile\", caption='Dummy Tile'",
     "results": "verbatim",
     "term": false,
     "wrap": false
    }
   },
   "outputs": [
    {
     "data": {
      "image/png": "[encoded data removed]",
      "text/plain": [
       "Tile(masked_array(\n",
       "  data=[[0, 0, 0, ..., 3, 3, 3],\n",
       "        [0, 0, 0, ..., 3, 3, 3],\n",
       "        [0, 0, 0, ..., 3, 3, 3],\n",
       "        ...,\n",
       "        [0, 0, 0, ..., 3, 3, 3],\n",
       "        [0, 0, 0, ..., 3, 3, 3],\n",
       "        [0, 0, 0, ..., 3, 3, 3]],\n",
       "  mask=False,\n",
       "  fill_value=-32768,\n",
       "  dtype=int16), int16)"
      ]
     },
     "metadata": {},
     "output_type": "display_data"
    }
   ],
   "source": [
    "tile_size = 100\n",
    "x = np.zeros((tile_size, tile_size), dtype='int16')\n",
    "\n",
    "# setting the values of the columns\n",
    "for i in range(4):\n",
    "    x[:, i*tile_size//4:(i+1)*tile_size//4] = i\n",
    "x = Tile(x)\n",
    "\n",
    "rf = spark.createDataFrame([Row(tile=x)])\n",
    "display(x)"
   ]
  },
  {
   "cell_type": "markdown",
   "metadata": {
    "format": "text/markdown"
   },
   "source": [
    "\n",
    "First, we mask the value of 1 by making a new _tile_ column with the user defined cell type 'uint16ud1'. Then, we mask out the value of two by making a _tile_ column with the cell type 'uint16ud2'.\n",
    "\n"
   ]
  },
  {
   "cell_type": "code",
   "execution_count": 13,
   "metadata": {
    "autoscroll": "auto",
    "collapsed": false,
    "options": {
     "caption": false,
     "complete": true,
     "display_data": true,
     "display_stream": true,
     "dpi": 175,
     "echo": true,
     "evaluate": true,
     "f_env": null,
     "f_pos": "htpb",
     "f_size": [
      6,
      4
     ],
     "f_spines": true,
     "fig": true,
     "include": true,
     "name": "masked_rf",
     "option_string": "name = \"masked_rf\"",
     "results": "verbatim",
     "term": false,
     "wrap": false
    }
   },
   "outputs": [],
   "source": [
    "def get_nodata_ct(nd_val):\n",
    "\treturn CellType('uint16').with_no_data_value(nd_val)\n",
    "\n",
    "masked_rf = rf.withColumn('tile_nd_1',\n",
    "                           rf_convert_cell_type('tile', get_nodata_ct(1))) \\\n",
    "              .withColumn('tile_nd_2',\n",
    "                          rf_convert_cell_type('tile_nd_1', get_nodata_ct(2))) \\"
   ]
  },
  {
   "cell_type": "markdown",
   "metadata": {
    "format": "text/markdown"
   },
   "source": [
    "\n"
   ]
  },
  {
   "cell_type": "code",
   "execution_count": 14,
   "metadata": {
    "autoscroll": "auto",
    "collapsed": false,
    "options": {
     "caption": false,
     "complete": true,
     "display_data": true,
     "display_stream": true,
     "dpi": 175,
     "echo": true,
     "evaluate": true,
     "f_env": null,
     "f_pos": "htpb",
     "f_size": [
      6,
      4
     ],
     "f_spines": true,
     "fig": true,
     "include": true,
     "name": "masked_collected",
     "option_string": "name = \"masked_collected\"",
     "results": "verbatim",
     "term": false,
     "wrap": false
    }
   },
   "outputs": [],
   "source": [
    "collected = masked_rf.collect()"
   ]
  },
  {
   "cell_type": "markdown",
   "metadata": {
    "format": "text/markdown"
   },
   "source": [
    "\n",
    "Let's look at the new _tiles_ we created. The _tile_ named `tile_nd_1` has the 1 values masked out as expected.\n",
    "\n"
   ]
  },
  {
   "cell_type": "code",
   "execution_count": 15,
   "metadata": {
    "autoscroll": "auto",
    "collapsed": false,
    "options": {
     "caption": false,
     "complete": true,
     "display_data": true,
     "display_stream": true,
     "dpi": 175,
     "echo": true,
     "evaluate": true,
     "f_env": null,
     "f_pos": "htpb",
     "f_size": [
      6,
      4
     ],
     "f_spines": true,
     "fig": true,
     "include": true,
     "name": "display_4",
     "option_string": "name = \"display_4\"",
     "results": "verbatim",
     "term": false,
     "wrap": false
    }
   },
   "outputs": [
    {
     "data": {
      "image/png": "[encoded data removed]",
      "text/plain": [
       "Tile(masked_array(\n",
       "  data=[[0, 0, 0, ..., 3, 3, 3],\n",
       "        [0, 0, 0, ..., 3, 3, 3],\n",
       "        [0, 0, 0, ..., 3, 3, 3],\n",
       "        ...,\n",
       "        [0, 0, 0, ..., 3, 3, 3],\n",
       "        [0, 0, 0, ..., 3, 3, 3],\n",
       "        [0, 0, 0, ..., 3, 3, 3]],\n",
       "  mask=[[False, False, False, ..., False, False, False],\n",
       "        [False, False, False, ..., False, False, False],\n",
       "        [False, False, False, ..., False, False, False],\n",
       "        ...,\n",
       "        [False, False, False, ..., False, False, False],\n",
       "        [False, False, False, ..., False, False, False],\n",
       "        [False, False, False, ..., False, False, False]],\n",
       "  fill_value=1,\n",
       "  dtype=uint16), uint16ud1)"
      ]
     },
     "metadata": {},
     "output_type": "display_data"
    }
   ],
   "source": [
    "display(collected[0].tile_nd_1)"
   ]
  },
  {
   "cell_type": "markdown",
   "metadata": {
    "format": "text/markdown"
   },
   "source": [
    "\n",
    "And the _tile_ named `tile_nd_2` has the values of 1 and 2 masked out. This is because we created the _tile_ by setting a new user defined NoData value to `tile_nd_1`, and the values previously masked out in `tile_nd_1` stayed masked when creating `tile_nd_2`.\n",
    "\n"
   ]
  },
  {
   "cell_type": "code",
   "execution_count": 16,
   "metadata": {
    "autoscroll": "auto",
    "collapsed": false,
    "options": {
     "caption": false,
     "complete": true,
     "display_data": true,
     "display_stream": true,
     "dpi": 175,
     "echo": true,
     "evaluate": true,
     "f_env": null,
     "f_pos": "htpb",
     "f_size": [
      6,
      4
     ],
     "f_spines": true,
     "fig": true,
     "include": true,
     "name": "display_5",
     "option_string": "name = \"display_5\"",
     "results": "verbatim",
     "term": false,
     "wrap": false
    }
   },
   "outputs": [
    {
     "data": {
      "image/png": "[encoded data removed]",
      "text/plain": [
       "Tile(masked_array(\n",
       "  data=[[0, 0, 0, ..., 3, 3, 3],\n",
       "        [0, 0, 0, ..., 3, 3, 3],\n",
       "        [0, 0, 0, ..., 3, 3, 3],\n",
       "        ...,\n",
       "        [0, 0, 0, ..., 3, 3, 3],\n",
       "        [0, 0, 0, ..., 3, 3, 3],\n",
       "        [0, 0, 0, ..., 3, 3, 3]],\n",
       "  mask=[[False, False, False, ..., False, False, False],\n",
       "        [False, False, False, ..., False, False, False],\n",
       "        [False, False, False, ..., False, False, False],\n",
       "        ...,\n",
       "        [False, False, False, ..., False, False, False],\n",
       "        [False, False, False, ..., False, False, False],\n",
       "        [False, False, False, ..., False, False, False]],\n",
       "  fill_value=2,\n",
       "  dtype=uint16), uint16ud2)"
      ]
     },
     "metadata": {},
     "output_type": "display_data"
    }
   ],
   "source": [
    "display(collected[0].tile_nd_2)"
   ]
  },
  {
   "cell_type": "markdown",
   "metadata": {
    "format": "text/markdown"
   },
   "source": [
    "\n",
    "\n",
    "## Combining Tiles with Different Data Types\n",
    "\n",
    "RasterFrames supports having _tile_ columns with different cell types in a single DataFrame. It is important to understand how these different cell types interact.\n",
    "\n",
    "Let's first create a RasterFrame that has columns of `float` and `int` cell type.\n",
    "\n"
   ]
  },
  {
   "cell_type": "code",
   "execution_count": 17,
   "metadata": {
    "autoscroll": "auto",
    "collapsed": false,
    "options": {
     "caption": false,
     "complete": true,
     "display_data": true,
     "display_stream": true,
     "dpi": 175,
     "echo": true,
     "evaluate": true,
     "f_env": null,
     "f_pos": "htpb",
     "f_size": [
      6,
      4
     ],
     "f_spines": true,
     "fig": true,
     "include": true,
     "name": "show_1",
     "option_string": "name = \"show_1\"",
     "results": "verbatim",
     "term": false,
     "wrap": false
    }
   },
   "outputs": [
    {
     "data": {
      "text/html": [
       "<table>\n",
       "<thead>\n",
       "<tr><th>rf_cell_type(x)</th><th>rf_cell_type(y)</th></tr>\n",
       "</thead>\n",
       "<tbody>\n",
       "<tr><td>[float64]</td><td>[int32]</td></tr>\n",
       "</tbody>\n",
       "</table>"
      ],
      "text/markdown": [
       "| rf_cell_type(x) | rf_cell_type(y) |\n",
       "|---|---|\n",
       "| \\[float64] | \\[int32] |"
      ],
      "text/plain": [
       "DataFrame[rf_cell_type(x): struct<cellTypeName:string>, rf_cell_type(y): struct<cellTypeName:string>]"
      ]
     },
     "execution_count": 1,
     "metadata": {},
     "output_type": "execute_result"
    }
   ],
   "source": [
    "x = Tile((np.ones((100, 100))*2), CellType.float64())\n",
    "y = Tile((np.ones((100, 100))*3), CellType.int32())\n",
    "rf = spark.createDataFrame([Row(x=x, y=y)])\n",
    "\n",
    "cell_types = rf.select(rf_cell_type('x'), rf_cell_type('y')).distinct()\n",
    "cell_types"
   ]
  },
  {
   "cell_type": "markdown",
   "metadata": {
    "format": "text/markdown"
   },
   "source": [
    "\n",
    "When performing a local operation between _tile_ columns with cell types `int` and  `float`, the resulting _tile_ cell type will be `float`. In local algebra over two _tiles_ of different \"sized\" cell types, the resulting cell type will be the larger of the two input _tiles'_ cell types.\n",
    "\n"
   ]
  },
  {
   "cell_type": "code",
   "execution_count": 18,
   "metadata": {
    "autoscroll": "auto",
    "collapsed": false,
    "options": {
     "caption": false,
     "complete": true,
     "display_data": true,
     "display_stream": true,
     "dpi": 175,
     "echo": true,
     "evaluate": true,
     "f_env": null,
     "f_pos": "htpb",
     "f_size": [
      6,
      4
     ],
     "f_spines": true,
     "fig": true,
     "include": true,
     "name": "show_2",
     "option_string": "name = \"show_2\"",
     "results": "verbatim",
     "term": false,
     "wrap": false
    }
   },
   "outputs": [
    {
     "data": {
      "text/html": [
       "<table>\n",
       "<thead>\n",
       "<tr><th>rf_cell_type(x)</th><th>rf_cell_type(y)</th><th>xy_sum</th></tr>\n",
       "</thead>\n",
       "<tbody>\n",
       "<tr><td>[float64]</td><td>[int32]</td><td>[float64]</td></tr>\n",
       "</tbody>\n",
       "</table>"
      ],
      "text/markdown": [
       "| rf_cell_type(x) | rf_cell_type(y) | xy_sum |\n",
       "|---|---|---|\n",
       "| \\[float64] | \\[int32] | \\[float64] |"
      ],
      "text/plain": [
       "DataFrame[rf_cell_type(x): struct<cellTypeName:string>, rf_cell_type(y): struct<cellTypeName:string>, xy_sum: struct<cellTypeName:string>]"
      ]
     },
     "execution_count": 1,
     "metadata": {},
     "output_type": "execute_result"
    }
   ],
   "source": [
    "sums = rf.select(\n",
    "    rf_cell_type('x'),\n",
    "    rf_cell_type('y'),\n",
    "    rf_cell_type(rf_local_add('x', 'y')).alias('xy_sum'),\n",
    "    )\n",
    "sums"
   ]
  },
  {
   "cell_type": "markdown",
   "metadata": {
    "format": "text/markdown"
   },
   "source": [
    "\n",
    "Combining _tile_ columns of different cell types gets a little trickier when user defined NoData cell types are involved. Let's create two _tile_ columns: one with a NoData value of 1, and one with a NoData value of 2 (using our previously defined `get_nodata_ct` function).\n",
    "\n"
   ]
  },
  {
   "cell_type": "code",
   "execution_count": 19,
   "metadata": {
    "autoscroll": "auto",
    "collapsed": false,
    "options": {
     "caption": false,
     "complete": true,
     "display_data": true,
     "display_stream": true,
     "dpi": 175,
     "echo": true,
     "evaluate": true,
     "f_env": null,
     "f_pos": "htpb",
     "f_size": [
      6,
      4
     ],
     "f_spines": true,
     "fig": true,
     "include": true,
     "name": "create_ones",
     "option_string": "name = \"create_ones\"",
     "results": "verbatim",
     "term": false,
     "wrap": false
    }
   },
   "outputs": [],
   "source": [
    "x_nd_1 = Tile((np.ones((100, 100))*3), get_nodata_ct(1))\n",
    "x_nd_2 = Tile((np.ones((100, 100))*3), get_nodata_ct(2))\n",
    "rf_nd = spark.createDataFrame([Row(x_nd_1=x_nd_1, x_nd_2=x_nd_2)])"
   ]
  },
  {
   "cell_type": "markdown",
   "metadata": {
    "format": "text/markdown"
   },
   "source": [
    "\n",
    "Let's try adding the _tile_ columns with different NoData values. When there is an inconsistent NoData value in the two columns, the NoData value of the right-hand side of the sum is kept. In this case, this means the result has a NoData value of 1.\n",
    "\n"
   ]
  },
  {
   "cell_type": "code",
   "execution_count": 20,
   "metadata": {
    "autoscroll": "auto",
    "collapsed": false,
    "options": {
     "caption": false,
     "complete": true,
     "display_data": true,
     "display_stream": true,
     "dpi": 175,
     "echo": true,
     "evaluate": true,
     "f_env": null,
     "f_pos": "htpb",
     "f_size": [
      6,
      4
     ],
     "f_spines": true,
     "fig": true,
     "include": true,
     "name": "show_3",
     "option_string": "name = \"show_3\"",
     "results": "verbatim",
     "term": false,
     "wrap": false
    }
   },
   "outputs": [
    {
     "data": {
      "text/html": [
       "<table>\n",
       "<thead>\n",
       "<tr><th>rf_cell_type(x_nd_sum)</th></tr>\n",
       "</thead>\n",
       "<tbody>\n",
       "<tr><td>[uint16ud2]</td></tr>\n",
       "</tbody>\n",
       "</table>"
      ],
      "text/markdown": [
       "| rf_cell_type(x_nd_sum) |\n",
       "|---|\n",
       "| \\[uint16ud2] |"
      ],
      "text/plain": [
       "DataFrame[rf_cell_type(x_nd_sum): struct<cellTypeName:string>]"
      ]
     },
     "execution_count": 1,
     "metadata": {},
     "output_type": "execute_result"
    }
   ],
   "source": [
    "rf_nd_sum = rf_nd.withColumn('x_nd_sum', rf_local_add('x_nd_2', 'x_nd_1'))\n",
    "cell_types = rf_nd_sum.select(rf_cell_type('x_nd_sum')).distinct()\n",
    "cell_types"
   ]
  },
  {
   "cell_type": "markdown",
   "metadata": {
    "format": "text/markdown"
   },
   "source": [
    "\n",
    "Reversing the order of the sum changes the NoData value of the resulting column to 2.\n",
    "\n"
   ]
  },
  {
   "cell_type": "code",
   "execution_count": 21,
   "metadata": {
    "autoscroll": "auto",
    "collapsed": false,
    "options": {
     "caption": false,
     "complete": true,
     "display_data": true,
     "display_stream": true,
     "dpi": 175,
     "echo": true,
     "evaluate": true,
     "f_env": null,
     "f_pos": "htpb",
     "f_size": [
      6,
      4
     ],
     "f_spines": true,
     "fig": true,
     "include": true,
     "name": "show_4",
     "option_string": "name = \"show_4\"",
     "results": "verbatim",
     "term": false,
     "wrap": false
    }
   },
   "outputs": [
    {
     "data": {
      "text/html": [
       "<table>\n",
       "<thead>\n",
       "<tr><th>rf_cell_type(x_nd_sum)</th></tr>\n",
       "</thead>\n",
       "<tbody>\n",
       "<tr><td>[uint16ud1]</td></tr>\n",
       "</tbody>\n",
       "</table>"
      ],
      "text/markdown": [
       "| rf_cell_type(x_nd_sum) |\n",
       "|---|\n",
       "| \\[uint16ud1] |"
      ],
      "text/plain": [
       "DataFrame[rf_cell_type(x_nd_sum): struct<cellTypeName:string>]"
      ]
     },
     "execution_count": 1,
     "metadata": {},
     "output_type": "execute_result"
    }
   ],
   "source": [
    "rf_nd_sum = rf_nd.withColumn('x_nd_sum', rf_local_add('x_nd_1', 'x_nd_2'))\n",
    "cell_types = rf_nd_sum.select(rf_cell_type('x_nd_sum')).distinct()\n",
    "cell_types"
   ]
  },
  {
   "cell_type": "markdown",
   "metadata": {
    "format": "text/markdown"
   },
   "source": [
    "\n",
    "## NoData Values in Aggregation\n",
    "\n",
    "Let's use the same _tile_ as before to demonstrate how NoData values affect _tile_ aggregations.\n",
    "\n"
   ]
  },
  {
   "cell_type": "code",
   "execution_count": 22,
   "metadata": {
    "autoscroll": "auto",
    "collapsed": false,
    "options": {
     "caption": false,
     "complete": true,
     "display_data": true,
     "display_stream": true,
     "dpi": 175,
     "echo": true,
     "evaluate": true,
     "f_env": null,
     "f_pos": "htpb",
     "f_size": [
      6,
      4
     ],
     "f_spines": true,
     "fig": true,
     "include": true,
     "name": "display_6",
     "option_string": "name = \"display_6\"",
     "results": "verbatim",
     "term": false,
     "wrap": false
    }
   },
   "outputs": [
    {
     "data": {
      "image/png": "[encoded data removed]",
      "text/plain": [
       "Tile(masked_array(\n",
       "  data=[[0, 0, 0, ..., 3, 3, 3],\n",
       "        [0, 0, 0, ..., 3, 3, 3],\n",
       "        [0, 0, 0, ..., 3, 3, 3],\n",
       "        ...,\n",
       "        [0, 0, 0, ..., 3, 3, 3],\n",
       "        [0, 0, 0, ..., 3, 3, 3],\n",
       "        [0, 0, 0, ..., 3, 3, 3]],\n",
       "  mask=False,\n",
       "  fill_value=-32768,\n",
       "  dtype=int16), int16)"
      ]
     },
     "metadata": {},
     "output_type": "display_data"
    }
   ],
   "source": [
    "tile_size = 100\n",
    "x = np.zeros((tile_size, tile_size))\n",
    "for i in range(4):\n",
    "    x[:, i*tile_size//4:(i+1)*tile_size//4] = i\n",
    "x = Tile(x, CellType.int16())\n",
    "\n",
    "rf = spark.createDataFrame([Row(tile=x)])\n",
    "display(x)"
   ]
  },
  {
   "cell_type": "markdown",
   "metadata": {
    "format": "text/markdown"
   },
   "source": [
    "\n",
    "First we create the two new masked _tile_ columns as before. One with only the value of 1 masked, and the other with and values of 1 and 2 masked.\n",
    "\n"
   ]
  },
  {
   "cell_type": "code",
   "execution_count": 23,
   "metadata": {
    "autoscroll": "auto",
    "collapsed": false,
    "options": {
     "caption": false,
     "complete": true,
     "display_data": true,
     "display_stream": true,
     "dpi": 175,
     "echo": true,
     "evaluate": true,
     "f_env": null,
     "f_pos": "htpb",
     "f_size": [
      6,
      4
     ],
     "f_spines": true,
     "fig": true,
     "include": true,
     "name": "cell_type_2",
     "option_string": "name = \"cell_type_2\"",
     "results": "verbatim",
     "term": false,
     "wrap": false
    }
   },
   "outputs": [],
   "source": [
    "masked_rf = rf.withColumn('tile_nd_1',\n",
    "                           rf_convert_cell_type('tile', get_nodata_ct(1))) \\\n",
    "              .withColumn('tile_nd_2',\n",
    "                          rf_convert_cell_type('tile_nd_1', get_nodata_ct(2)))"
   ]
  },
  {
   "cell_type": "markdown",
   "metadata": {
    "format": "text/markdown"
   },
   "source": [
    "\n",
    "The results of `rf_tile_sum` vary on the _tiles_ that were masked. This is because any cells with NoData values are ignored in the aggregation. Note that `tile_nd_2` has the lowest sum, since it has the fewest amount of data cells.\n",
    "\n"
   ]
  },
  {
   "cell_type": "code",
   "execution_count": 24,
   "metadata": {
    "autoscroll": "auto",
    "collapsed": false,
    "options": {
     "caption": false,
     "complete": true,
     "display_data": true,
     "display_stream": true,
     "dpi": 175,
     "echo": true,
     "evaluate": true,
     "f_env": null,
     "f_pos": "htpb",
     "f_size": [
      6,
      4
     ],
     "f_spines": true,
     "fig": true,
     "include": true,
     "name": "show_5",
     "option_string": "name = \"show_5\"",
     "results": "verbatim",
     "term": false,
     "wrap": false
    }
   },
   "outputs": [
    {
     "data": {
      "text/html": [
       "<table>\n",
       "<thead>\n",
       "<tr><th>rf_tile_sum(tile)</th><th>rf_tile_sum(tile_nd_1)</th><th>rf_tile_sum(tile_nd_2)</th></tr>\n",
       "</thead>\n",
       "<tbody>\n",
       "<tr><td>15000.0</td><td>12500.0</td><td>7500.0</td></tr>\n",
       "</tbody>\n",
       "</table>"
      ],
      "text/markdown": [
       "| rf_tile_sum(tile) | rf_tile_sum(tile_nd_1) | rf_tile_sum(tile_nd_2) |\n",
       "|---|---|---|\n",
       "| 15000.0 | 12500.0 | 7500.0 |"
      ],
      "text/plain": [
       "DataFrame[rf_tile_sum(tile): double, rf_tile_sum(tile_nd_1): double, rf_tile_sum(tile_nd_2): double]"
      ]
     },
     "execution_count": 1,
     "metadata": {},
     "output_type": "execute_result"
    }
   ],
   "source": [
    "sums = masked_rf.select(rf_tile_sum('tile'), rf_tile_sum('tile_nd_1'), rf_tile_sum('tile_nd_2'))\n",
    "sums"
   ]
  },
  {
   "cell_type": "markdown",
   "metadata": {
    "format": "text/markdown"
   },
   "source": []
  }
 ],
 "metadata": {
  "kernel_info": {
   "name": "python3"
  },
  "language_info": {
   "name": "python"
  }
 },
 "nbformat": 4,
 "nbformat_minor": 0
}