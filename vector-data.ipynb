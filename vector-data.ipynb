{
 "cells": [
  {
   "cell_type": "markdown",
   "metadata": {
    "format": "text/markdown"
   },
   "source": [
    "# Vector Data\n",
    "\n",
    "RasterFrames provides a variety of ways to work with spatial vector data (points, lines, and polygons) alongside raster data.  \n",
    "\n",
    " * DataSource for GeoJSON format\n",
    " * Ability to convert between from [GeoPandas][GeoPandas] and Spark DataFrames\n",
    " * In PySpark, geometries are [Shapely][Shapely] objects, providing a great deal of interoperability\n",
    " * Many Spark functions for working with columns of geometries\n",
    " * Vector data is also the basis for @ref:[zonal map algebra](zonal-algebra.md) operations.\n",
    "\n"
   ]
  },
  {
   "cell_type": "code",
   "execution_count": 1,
   "metadata": {
    "autoscroll": "auto",
    "collapsed": false,
    "options": {
     "caption": false,
     "complete": true,
     "display_data": true,
     "display_stream": true,
     "dpi": 175,
     "echo": false,
     "evaluate": true,
     "f_env": null,
     "f_pos": "htpb",
     "f_size": [
      6,
      4
     ],
     "f_spines": true,
     "fig": true,
     "include": true,
     "name": "setup",
     "option_string": "name = \"setup\", echo=False",
     "results": "verbatim",
     "term": false,
     "wrap": false
    }
   },
   "outputs": [],
   "source": [
    "import pyrasterframes\n",
    "from pyrasterframes.utils import create_rf_spark_session\n",
    "import pyrasterframes.rf_ipython\n",
    "import geopandas\n",
    "import folium\n",
    "spark = create_rf_spark_session('local[2]')"
   ]
  },
  {
   "cell_type": "markdown",
   "metadata": {
    "format": "text/markdown"
   },
   "source": [
    "\n",
    "## GeoJSON DataSource\n",
    "\n"
   ]
  },
  {
   "cell_type": "code",
   "execution_count": 2,
   "metadata": {
    "autoscroll": "auto",
    "collapsed": false,
    "options": {
     "caption": false,
     "complete": true,
     "display_data": true,
     "display_stream": true,
     "dpi": 175,
     "echo": true,
     "evaluate": true,
     "f_env": null,
     "f_pos": "htpb",
     "f_size": [
      6,
      4
     ],
     "f_spines": true,
     "fig": true,
     "include": true,
     "name": "read_geojson",
     "option_string": "name = \"read_geojson\"",
     "results": "verbatim",
     "term": false,
     "wrap": false
    }
   },
   "outputs": [
    {
     "name": "stdout",
     "output_type": "stream",
     "text": [
      "root\n",
      " |-- geometry: geometry (nullable = true)\n",
      " |-- ISO3166-1-Alpha-3: string (nullable = true)\n",
      " |-- country: string (nullable = true)\n",
      " |-- id: string (nullable = true)\n",
      " |-- name: string (nullable = true)\n",
      " |-- state_code: string (nullable = true)\n",
      "\n"
     ]
    }
   ],
   "source": [
    "from pyspark import SparkFiles\n",
    "admin1_us_url = 'https://raw.githubusercontent.com/datasets/geo-admin1-us/master/data/admin1-us.geojson'\n",
    "spark.sparkContext.addFile(admin1_us_url)  # this lets us read http scheme uri's in spark\n",
    "\n",
    "df = spark.read.geojson(SparkFiles.get('admin1-us.geojson'))\n",
    "df.printSchema()"
   ]
  },
  {
   "cell_type": "markdown",
   "metadata": {
    "format": "text/markdown"
   },
   "source": [
    "\n",
    "The properties of each discrete geometry are available as columns of the DataFrame, along with the geometry itself.\n",
    "\n",
    "## GeoPandas and RasterFrames\n",
    "\n",
    "You can also convert a [GeoPandas][GeoPandas] GeoDataFrame to a Spark DataFrame, preserving the geometry column. This means that any vector format that can be read with [OGR][OGR] can be converted to a Spark DataFrame. In the example below, we expect the same schema as the DataFrame defined above by the GeoJSON reader. Note that in a GeoPandas DataFrame there can be heterogeneous geometry types in the column, which may fail Spark's schema inference.\n",
    "\n"
   ]
  },
  {
   "cell_type": "code",
   "execution_count": 3,
   "metadata": {
    "autoscroll": "auto",
    "collapsed": false,
    "options": {
     "caption": false,
     "complete": true,
     "display_data": true,
     "display_stream": true,
     "dpi": 175,
     "echo": true,
     "evaluate": true,
     "f_env": null,
     "f_pos": "htpb",
     "f_size": [
      6,
      4
     ],
     "f_spines": true,
     "fig": true,
     "include": true,
     "name": "read_and_normalize",
     "option_string": "name = \"read_and_normalize\"",
     "results": "verbatim",
     "term": false,
     "wrap": false
    }
   },
   "outputs": [
    {
     "name": "stdout",
     "output_type": "stream",
     "text": [
      "root\n",
      " |-- name: string (nullable = true)\n",
      " |-- country: string (nullable = true)\n",
      " |-- ISO3166-1-Alpha-3: string (nullable = true)\n",
      " |-- state_code: string (nullable = true)\n",
      " |-- id: string (nullable = true)\n",
      " |-- geometry: multipolygon (nullable = true)\n",
      "\n"
     ]
    }
   ],
   "source": [
    "import geopandas\n",
    "from shapely.geometry import MultiPolygon\n",
    "\n",
    "def poly_or_mp_to_mp(g):\n",
    "    \"\"\" Normalize polygons or multipolygons to all be multipolygons. \"\"\"\n",
    "    if isinstance(g, MultiPolygon):\n",
    "        return g\n",
    "    else:\n",
    "        return MultiPolygon([g])\n",
    "\n",
    "gdf = geopandas.read_file(admin1_us_url)\n",
    "gdf.geometry = gdf.geometry.apply(poly_or_mp_to_mp)\n",
    "df2 = spark.createDataFrame(gdf)\n",
    "df2.printSchema()"
   ]
  },
  {
   "cell_type": "markdown",
   "metadata": {
    "format": "text/markdown"
   },
   "source": [
    "\n",
    "## Shapely Geometry Support\n",
    "\n",
    "The `geometry` column will have a Spark user-defined type that is compatible with [Shapely][Shapely] when working with Python via PySpark. This means that when the data is collected to the driver, it will be a Shapely geometry object.\n",
    "\n"
   ]
  },
  {
   "cell_type": "code",
   "execution_count": 4,
   "metadata": {
    "autoscroll": "auto",
    "collapsed": false,
    "options": {
     "caption": false,
     "complete": true,
     "display_data": true,
     "display_stream": true,
     "dpi": 175,
     "echo": true,
     "evaluate": true,
     "f_env": null,
     "f_pos": "htpb",
     "f_size": [
      6,
      4
     ],
     "f_spines": true,
     "fig": true,
     "include": true,
     "name": "show_geom",
     "option_string": "name = \"show_geom\"",
     "results": "verbatim",
     "term": false,
     "wrap": false
    }
   },
   "outputs": [
    {
     "name": "stdout",
     "output_type": "stream",
     "text": [
      "<class 'shapely.geometry.polygon.Polygon'>\n"
     ]
    }
   ],
   "source": [
    "the_first = df.first()\n",
    "print(type(the_first['geometry']))"
   ]
  },
  {
   "cell_type": "markdown",
   "metadata": {
    "format": "text/markdown"
   },
   "source": [
    "\n",
    "Since it is a geometry we can do things like this:\n",
    "\n"
   ]
  },
  {
   "cell_type": "code",
   "execution_count": 5,
   "metadata": {
    "autoscroll": "auto",
    "collapsed": false,
    "options": {
     "caption": false,
     "complete": true,
     "display_data": true,
     "display_stream": true,
     "dpi": 175,
     "echo": true,
     "evaluate": true,
     "f_env": null,
     "f_pos": "htpb",
     "f_size": [
      6,
      4
     ],
     "f_spines": true,
     "fig": true,
     "include": true,
     "name": "show_wkt",
     "option_string": "name = \"show_wkt\"",
     "results": "verbatim",
     "term": false,
     "wrap": false
    }
   },
   "outputs": [
    {
     "data": {
      "text/plain": [
       "'POLYGON ((-71.14789974636884 41.64758738867177, -71.1203820461734 41.49465098730397, -71.85382564969197 41.32003632258973, -71.79295081245215 41.46661652278563, -71.8009089830251 42.01324982356905, -71.37915178087496 42.02436025651181, -71.30507361518457 41.76241242122431, -71.14789974636884 41.64758738867177))'"
      ]
     },
     "execution_count": 1,
     "metadata": {},
     "output_type": "execute_result"
    }
   ],
   "source": [
    "the_first['geometry'].wkt"
   ]
  },
  {
   "cell_type": "markdown",
   "metadata": {
    "format": "text/markdown"
   },
   "source": [
    "\n",
    "You can also write user-defined functions that take geometries as input, output, or both, via user defined types in the [geomesa_pyspark.types](https://github.com/locationtech/rasterframes/blob/develop/pyrasterframes/src/main/python/geomesa_pyspark/types.py) module. Here is a simple **but inefficient** example of a user-defined function that uses both a geometry input and output to compute the centroid of a geometry. Observe in a sample of the data the geometry columns print as well known text (wkt).\n",
    "\n"
   ]
  },
  {
   "cell_type": "code",
   "execution_count": 6,
   "metadata": {
    "autoscroll": "auto",
    "collapsed": false,
    "options": {
     "caption": false,
     "complete": true,
     "display_data": true,
     "display_stream": true,
     "dpi": 175,
     "echo": true,
     "evaluate": true,
     "f_env": null,
     "f_pos": "htpb",
     "f_size": [
      6,
      4
     ],
     "f_spines": true,
     "fig": true,
     "include": true,
     "name": "add_centroid",
     "option_string": "name = \"add_centroid\"",
     "results": "verbatim",
     "term": false,
     "wrap": false
    }
   },
   "outputs": [
    {
     "data": {
      "text/html": [
       "<table>\n",
       "<caption>Showing only top 5 rows</caption>\n",
       "<thead>\n",
       "<tr><th>state_code</th><th>inefficient_centroid(geometry)</th></tr>\n",
       "</thead>\n",
       "<tbody>\n",
       "<tr><td>RI</td><td>POINT (-71.52928731203043 41.68199156750...</td></tr>\n",
       "<tr><td>FL</td><td>POINT (-82.50257410032164 28.61692830512...</td></tr>\n",
       "<tr><td>OK</td><td>POINT (-97.5041982257254 35.581496016431...</td></tr>\n",
       "<tr><td>MN</td><td>POINT (-94.17743611908642 46.36007316339...</td></tr>\n",
       "<tr><td>TX</td><td>POINT (-99.3286756609654 31.455508256185...</td></tr>\n",
       "</tbody>\n",
       "</table>"
      ],
      "text/markdown": [
       "\n",
       "_Showing only top 5 rows_.\n",
       "\n",
       "| state_code | inefficient_centroid(geometry) |\n",
       "|---|---|\n",
       "| RI | POINT (-71.52928731203043 41.68199156750... |\n",
       "| FL | POINT (-82.50257410032164 28.61692830512... |\n",
       "| OK | POINT (-97.5041982257254 35.581496016431... |\n",
       "| MN | POINT (-94.17743611908642 46.36007316339... |\n",
       "| TX | POINT (-99.3286756609654 31.455508256185... |"
      ],
      "text/plain": [
       "DataFrame[state_code: string, inefficient_centroid(geometry): udt]"
      ]
     },
     "execution_count": 1,
     "metadata": {},
     "output_type": "execute_result"
    }
   ],
   "source": [
    "from pyspark.sql.functions import udf\n",
    "from geomesa_pyspark.types import PointUDT\n",
    "\n",
    "@udf(PointUDT())\n",
    "def inefficient_centroid(g):\n",
    "    return g.centroid\n",
    "\n",
    "df.select(df.state_code, inefficient_centroid(df.geometry))"
   ]
  },
  {
   "cell_type": "markdown",
   "metadata": {
    "format": "text/markdown"
   },
   "source": [
    "\n",
    "## GeoMesa Functions and Spatial Relations\n",
    "\n",
    "As documented in the @ref:[function reference](reference.md), various user-defined functions implemented by GeoMesa are also available for use. The example below uses a GeoMesa user-defined function to compute the centroid of a geometry. It is logically equivalent to the example above, but more efficient.\n",
    "\n"
   ]
  },
  {
   "cell_type": "code",
   "execution_count": 7,
   "metadata": {
    "autoscroll": "auto",
    "collapsed": false,
    "options": {
     "caption": false,
     "complete": true,
     "display_data": true,
     "display_stream": true,
     "dpi": 175,
     "echo": true,
     "evaluate": true,
     "f_env": null,
     "f_pos": "htpb",
     "f_size": [
      6,
      4
     ],
     "f_spines": true,
     "fig": true,
     "include": true,
     "name": "native_centroid",
     "option_string": "name = \"native_centroid\"",
     "results": "verbatim",
     "term": false,
     "wrap": false
    }
   },
   "outputs": [
    {
     "data": {
      "text/html": [
       "<table>\n",
       "<caption>Showing only top 5 rows</caption>\n",
       "<thead>\n",
       "<tr><th>state_code</th><th>inefficient_centroid(geometry)</th><th>st_centroid(geometry)</th></tr>\n",
       "</thead>\n",
       "<tbody>\n",
       "<tr><td>RI</td><td>POINT (-71.52928731203043 41.68199156750...</td><td>POINT (-71.52928731203043 41.68199156750...</td></tr>\n",
       "<tr><td>FL</td><td>POINT (-82.50257410032164 28.61692830512...</td><td>POINT (-82.50257410032164 28.61692830512...</td></tr>\n",
       "<tr><td>OK</td><td>POINT (-97.5041982257254 35.581496016431...</td><td>POINT (-97.5041982257254 35.581496016431...</td></tr>\n",
       "<tr><td>MN</td><td>POINT (-94.17743611908642 46.36007316339...</td><td>POINT (-94.17743611908642 46.36007316339...</td></tr>\n",
       "<tr><td>TX</td><td>POINT (-99.3286756609654 31.455508256185...</td><td>POINT (-99.3286756609654 31.455508256185...</td></tr>\n",
       "</tbody>\n",
       "</table>"
      ],
      "text/markdown": [
       "\n",
       "_Showing only top 5 rows_.\n",
       "\n",
       "| state_code | inefficient_centroid(geometry) | st_centroid(geometry) |\n",
       "|---|---|---|\n",
       "| RI | POINT (-71.52928731203043 41.68199156750... | POINT (-71.52928731203043 41.68199156750... |\n",
       "| FL | POINT (-82.50257410032164 28.61692830512... | POINT (-82.50257410032164 28.61692830512... |\n",
       "| OK | POINT (-97.5041982257254 35.581496016431... | POINT (-97.5041982257254 35.581496016431... |\n",
       "| MN | POINT (-94.17743611908642 46.36007316339... | POINT (-94.17743611908642 46.36007316339... |\n",
       "| TX | POINT (-99.3286756609654 31.455508256185... | POINT (-99.3286756609654 31.455508256185... |"
      ],
      "text/plain": [
       "DataFrame[state_code: string, inefficient_centroid(geometry): udt, st_centroid(geometry): udt]"
      ]
     },
     "execution_count": 1,
     "metadata": {},
     "output_type": "execute_result"
    }
   ],
   "source": [
    "from pyrasterframes.rasterfunctions import st_centroid\n",
    "df.select(df.state_code, inefficient_centroid(df.geometry), st_centroid(df.geometry))"
   ]
  },
  {
   "cell_type": "markdown",
   "metadata": {
    "format": "text/markdown"
   },
   "source": [
    "\n",
    "The RasterFrames vector functions and GeoMesa functions also provide a variety of spatial relations that are useful in combination with the geometric properties of projected rasters. In this example, we use the @ref:[built-in Landsat catalog](raster-catalogs.md#using-built-in-experimental-catalogs) which provides an extent. We will convert the extent to a polygon and filter to those within approximately 50 km of a selected point.\n",
    "\n"
   ]
  },
  {
   "cell_type": "code",
   "execution_count": 8,
   "metadata": {
    "autoscroll": "auto",
    "collapsed": false,
    "options": {
     "caption": false,
     "complete": true,
     "display_data": true,
     "display_stream": true,
     "dpi": 175,
     "echo": true,
     "evaluate": true,
     "f_env": null,
     "f_pos": "htpb",
     "f_size": [
      6,
      4
     ],
     "f_spines": true,
     "fig": true,
     "include": true,
     "name": "spatial_relation",
     "option_string": "name = \"spatial_relation\", evaluate=True",
     "results": "verbatim",
     "term": false,
     "wrap": false
    }
   },
   "outputs": [],
   "source": [
    "from pyrasterframes.rasterfunctions import st_geometry, st_bufferPoint, st_intersects, st_point\n",
    "from pyspark.sql.functions import lit\n",
    "l8 = spark.read.format('aws-pds-l8-catalog').load()\n",
    "\n",
    "l8 = l8.withColumn('geom', st_geometry(l8.bounds_wgs84))  # extent to polygon\n",
    "l8 = l8.withColumn('paducah', st_point(lit(-88.628), lit(37.072)))  # col of points\n",
    "\n",
    "l8_filtered = l8 \\\n",
    "                .filter(st_intersects(l8.geom, st_bufferPoint(l8.paducah, lit(50000.0)))) \\\n",
    "                .filter(l8.acquisition_date > '2018-02-01') \\\n",
    "                .filter(l8.acquisition_date < '2018-03-11')"
   ]
  },
  {
   "cell_type": "markdown",
   "metadata": {
    "format": "text/markdown"
   },
   "source": [
    "\n"
   ]
  },
  {
   "cell_type": "code",
   "execution_count": 9,
   "metadata": {
    "autoscroll": "auto",
    "collapsed": false,
    "options": {
     "caption": false,
     "complete": true,
     "display_data": true,
     "display_stream": true,
     "dpi": 175,
     "echo": false,
     "evaluate": true,
     "f_env": null,
     "f_pos": "htpb",
     "f_size": [
      6,
      4
     ],
     "f_spines": true,
     "fig": true,
     "include": true,
     "name": "folium",
     "option_string": "name = \"folium\", echo=False",
     "results": "verbatim",
     "term": false,
     "wrap": false
    }
   },
   "outputs": [
    {
     "data": {
      "text/html": [
       "<div style=\"width:100%;\"><div style=\"position:relative;width:100%;height:0;padding-bottom:60%;\"><iframe src=\"data:text/html;charset=utf-8;base64,PCFET0NUWVBFIGh0bWw+CjxoZWFkPiAgICAKICAgIDxtZXRhIGh0dHAtZXF1aXY9ImNvbnRlbnQtdHlwZSIgY29udGVudD0idGV4dC9odG1sOyBjaGFyc2V0PVVURi04IiAvPgogICAgCiAgICAgICAgPHNjcmlwdD4KICAgICAgICAgICAgTF9OT19UT1VDSCA9IGZhbHNlOwogICAgICAgICAgICBMX0RJU0FCTEVfM0QgPSBmYWxzZTsKICAgICAgICA8L3NjcmlwdD4KICAgIAogICAgPHNjcmlwdCBzcmM9Imh0dHBzOi8vY2RuLmpzZGVsaXZyLm5ldC9ucG0vbGVhZmxldEAxLjUuMS9kaXN0L2xlYWZsZXQuanMiPjwvc2NyaXB0PgogICAgPHNjcmlwdCBzcmM9Imh0dHBzOi8vY29kZS5qcXVlcnkuY29tL2pxdWVyeS0xLjEyLjQubWluLmpzIj48L3NjcmlwdD4KICAgIDxzY3JpcHQgc3JjPSJodHRwczovL21heGNkbi5ib290c3RyYXBjZG4uY29tL2Jvb3RzdHJhcC8zLjIuMC9qcy9ib290c3RyYXAubWluLmpzIj48L3NjcmlwdD4KICAgIDxzY3JpcHQgc3JjPSJodHRwczovL2NkbmpzLmNsb3VkZmxhcmUuY29tL2FqYXgvbGlicy9MZWFmbGV0LmF3ZXNvbWUtbWFya2Vycy8yLjAuMi9sZWFmbGV0LmF3ZXNvbWUtbWFya2Vycy5qcyI+PC9zY3JpcHQ+CiAgICA8bGluayByZWw9InN0eWxlc2hlZXQiIGhyZWY9Imh0dHBzOi8vY2RuLmpzZGVsaXZyLm5ldC9ucG0vbGVhZmxldEAxLjUuMS9kaXN0L2xlYWZsZXQuY3NzIi8+CiAgICA8bGluayByZWw9InN0eWxlc2hlZXQiIGhyZWY9Imh0dHBzOi8vbWF4Y2RuLmJvb3RzdHJhcGNkbi5jb20vYm9vdHN0cmFwLzMuMi4wL2Nzcy9ib290c3RyYXAubWluLmNzcyIvPgogICAgPGxpbmsgcmVsPSJzdHlsZXNoZWV0IiBocmVmPSJodHRwczovL21heGNkbi5ib290c3RyYXBjZG4uY29tL2Jvb3RzdHJhcC8zLjIuMC9jc3MvYm9vdHN0cmFwLXRoZW1lLm1pbi5jc3MiLz4KICAgIDxsaW5rIHJlbD0ic3R5bGVzaGVldCIgaHJlZj0iaHR0cHM6Ly9tYXhjZG4uYm9vdHN0cmFwY2RuLmNvbS9mb250LWF3ZXNvbWUvNC42LjMvY3NzL2ZvbnQtYXdlc29tZS5taW4uY3NzIi8+CiAgICA8bGluayByZWw9InN0eWxlc2hlZXQiIGhyZWY9Imh0dHBzOi8vY2RuanMuY2xvdWRmbGFyZS5jb20vYWpheC9saWJzL0xlYWZsZXQuYXdlc29tZS1tYXJrZXJzLzIuMC4yL2xlYWZsZXQuYXdlc29tZS1tYXJrZXJzLmNzcyIvPgogICAgPGxpbmsgcmVsPSJzdHlsZXNoZWV0IiBocmVmPSJodHRwczovL3Jhd2Nkbi5naXRoYWNrLmNvbS9weXRob24tdmlzdWFsaXphdGlvbi9mb2xpdW0vbWFzdGVyL2ZvbGl1bS90ZW1wbGF0ZXMvbGVhZmxldC5hd2Vzb21lLnJvdGF0ZS5jc3MiLz4KICAgIDxzdHlsZT5odG1sLCBib2R5IHt3aWR0aDogMTAwJTtoZWlnaHQ6IDEwMCU7bWFyZ2luOiAwO3BhZGRpbmc6IDA7fTwvc3R5bGU+CiAgICA8c3R5bGU+I21hcCB7cG9zaXRpb246YWJzb2x1dGU7dG9wOjA7Ym90dG9tOjA7cmlnaHQ6MDtsZWZ0OjA7fTwvc3R5bGU+CiAgICAKICAgICAgICAgICAgPG1ldGEgbmFtZT0idmlld3BvcnQiIGNvbnRlbnQ9IndpZHRoPWRldmljZS13aWR0aCwKICAgICAgICAgICAgICAgIGluaXRpYWwtc2NhbGU9MS4wLCBtYXhpbXVtLXNjYWxlPTEuMCwgdXNlci1zY2FsYWJsZT1ubyIgLz4KICAgICAgICAgICAgPHN0eWxlPgogICAgICAgICAgICAgICAgI21hcF9kMjVmZDA0NzdhNGE0Y2NkOTZmNWNmZDc5MGZkM2M2YSB7CiAgICAgICAgICAgICAgICAgICAgcG9zaXRpb246IHJlbGF0aXZlOwogICAgICAgICAgICAgICAgICAgIHdpZHRoOiAxMDAuMCU7CiAgICAgICAgICAgICAgICAgICAgaGVpZ2h0OiAxMDAuMCU7CiAgICAgICAgICAgICAgICAgICAgbGVmdDogMC4wJTsKICAgICAgICAgICAgICAgICAgICB0b3A6IDAuMCU7CiAgICAgICAgICAgICAgICB9CiAgICAgICAgICAgIDwvc3R5bGU+CiAgICAgICAgCjwvaGVhZD4KPGJvZHk+ICAgIAogICAgCiAgICAgICAgICAgIDxkaXYgY2xhc3M9ImZvbGl1bS1tYXAiIGlkPSJtYXBfZDI1ZmQwNDc3YTRhNGNjZDk2ZjVjZmQ3OTBmZDNjNmEiID48L2Rpdj4KICAgICAgICAKPC9ib2R5Pgo8c2NyaXB0PiAgICAKICAgIAogICAgICAgICAgICB2YXIgbWFwX2QyNWZkMDQ3N2E0YTRjY2Q5NmY1Y2ZkNzkwZmQzYzZhID0gTC5tYXAoCiAgICAgICAgICAgICAgICAibWFwX2QyNWZkMDQ3N2E0YTRjY2Q5NmY1Y2ZkNzkwZmQzYzZhIiwKICAgICAgICAgICAgICAgIHsKICAgICAgICAgICAgICAgICAgICBjZW50ZXI6IFswLCAwXSwKICAgICAgICAgICAgICAgICAgICBjcnM6IEwuQ1JTLkVQU0czODU3LAogICAgICAgICAgICAgICAgICAgIHpvb206IDEsCiAgICAgICAgICAgICAgICAgICAgem9vbUNvbnRyb2w6IHRydWUsCiAgICAgICAgICAgICAgICAgICAgcHJlZmVyQ2FudmFzOiBmYWxzZSwKICAgICAgICAgICAgICAgIH0KICAgICAgICAgICAgKTsKCiAgICAgICAgICAgIAoKICAgICAgICAKICAgIAogICAgICAgICAgICB2YXIgdGlsZV9sYXllcl8yMWI0MDRjYTdhYTY0Y2UxOWExNGZlY2ZkZDU4YWJmOCA9IEwudGlsZUxheWVyKAogICAgICAgICAgICAgICAgImh0dHBzOi8ve3N9LnRpbGUub3BlbnN0cmVldG1hcC5vcmcve3p9L3t4fS97eX0ucG5nIiwKICAgICAgICAgICAgICAgIHsiYXR0cmlidXRpb24iOiAiRGF0YSBieSBcdTAwMjZjb3B5OyBcdTAwM2NhIGhyZWY9XCJodHRwOi8vb3BlbnN0cmVldG1hcC5vcmdcIlx1MDAzZU9wZW5TdHJlZXRNYXBcdTAwM2MvYVx1MDAzZSwgdW5kZXIgXHUwMDNjYSBocmVmPVwiaHR0cDovL3d3dy5vcGVuc3RyZWV0bWFwLm9yZy9jb3B5cmlnaHRcIlx1MDAzZU9EYkxcdTAwM2MvYVx1MDAzZS4iLCAiZGV0ZWN0UmV0aW5hIjogZmFsc2UsICJtYXhOYXRpdmVab29tIjogMTgsICJtYXhab29tIjogMTgsICJtaW5ab29tIjogMCwgIm5vV3JhcCI6IGZhbHNlLCAib3BhY2l0eSI6IDEsICJzdWJkb21haW5zIjogImFiYyIsICJ0bXMiOiBmYWxzZX0KICAgICAgICAgICAgKS5hZGRUbyhtYXBfZDI1ZmQwNDc3YTRhNGNjZDk2ZjVjZmQ3OTBmZDNjNmEpOwogICAgICAgIAogICAgCiAgICAgICAgICAgIG1hcF9kMjVmZDA0NzdhNGE0Y2NkOTZmNWNmZDc5MGZkM2M2YS5maXRCb3VuZHMoCiAgICAgICAgICAgICAgICBbWzM0Ljk0ODUxLCAtOTEuMzYxMzNdLCBbMzguNTE2MywgLTg1LjcyMzc1XV0sCiAgICAgICAgICAgICAgICB7fQogICAgICAgICAgICApOwogICAgICAgIAogICAgCiAgICAgICAgZnVuY3Rpb24gZ2VvX2pzb25fMTRkZDRlYzQ3NzFmNDNiYThmNDQ2Y2VhZTQ1ZGQ3NWFfb25FYWNoRmVhdHVyZShmZWF0dXJlLCBsYXllcikgewogICAgICAgICAgICBsYXllci5vbih7CiAgICAgICAgICAgICAgICBjbGljazogZnVuY3Rpb24oZSkgewogICAgICAgICAgICAgICAgICAgIG1hcF9kMjVmZDA0NzdhNGE0Y2NkOTZmNWNmZDc5MGZkM2M2YS5maXRCb3VuZHMoZS50YXJnZXQuZ2V0Qm91bmRzKCkpOwogICAgICAgICAgICAgICAgfQogICAgICAgICAgICB9KTsKICAgICAgICB9OwogICAgICAgIHZhciBnZW9fanNvbl8xNGRkNGVjNDc3MWY0M2JhOGY0NDZjZWFlNDVkZDc1YSA9IEwuZ2VvSnNvbihudWxsLCB7CiAgICAgICAgICAgICAgICBvbkVhY2hGZWF0dXJlOiBnZW9fanNvbl8xNGRkNGVjNDc3MWY0M2JhOGY0NDZjZWFlNDVkZDc1YV9vbkVhY2hGZWF0dXJlLAogICAgICAgICAgICAKICAgICAgICB9KTsKICAgICAgICBmdW5jdGlvbiBnZW9fanNvbl8xNGRkNGVjNDc3MWY0M2JhOGY0NDZjZWFlNDVkZDc1YV9hZGQgKGRhdGEpIHsKICAgICAgICAgICAgZ2VvX2pzb25fMTRkZDRlYzQ3NzFmNDNiYThmNDQ2Y2VhZTQ1ZGQ3NWEuYWRkRGF0YShkYXRhKQogICAgICAgICAgICAgICAgLmFkZFRvKG1hcF9kMjVmZDA0NzdhNGE0Y2NkOTZmNWNmZDc5MGZkM2M2YSk7CiAgICAgICAgfQogICAgICAgICAgICBnZW9fanNvbl8xNGRkNGVjNDc3MWY0M2JhOGY0NDZjZWFlNDVkZDc1YV9hZGQoeyJmZWF0dXJlcyI6IFt7Imdlb21ldHJ5IjogeyJjb29yZGluYXRlcyI6IFtbWy05MS4zNjEzMywgMzQuOTYyMDhdLCBbLTkxLjM2MTMzLCAzNy4xMDI3OV0sIFstODguODc5MzcsIDM3LjEwMjc5XSwgWy04OC44NzkzNywgMzQuOTYyMDhdLCBbLTkxLjM2MTMzLCAzNC45NjIwOF1dXSwgInR5cGUiOiAiUG9seWdvbiJ9LCAiaWQiOiAiMCIsICJwcm9wZXJ0aWVzIjogeyJib3VuZHNfd2dzODQiOiBbLTkxLjM2MTMzLCAzNC45NjIwOCwgLTg4Ljg3OTM3LCAzNy4xMDI3OV19LCAidHlwZSI6ICJGZWF0dXJlIn0sIHsiZ2VvbWV0cnkiOiB7ImNvb3JkaW5hdGVzIjogW1tbLTg5Ljg3MDk3LCAzNC45NDg1MV0sIFstODkuODcwOTcsIDM3LjA4MjY3XSwgWy04Ny4yNDIxMywgMzcuMDgyNjddLCBbLTg3LjI0MjEzLCAzNC45NDg1MV0sIFstODkuODcwOTcsIDM0Ljk0ODUxXV1dLCAidHlwZSI6ICJQb2x5Z29uIn0sICJpZCI6ICIxIiwgInByb3BlcnRpZXMiOiB7ImJvdW5kc193Z3M4NCI6IFstODkuODcwOTcsIDM0Ljk0ODUxLCAtODcuMjQyMTMsIDM3LjA4MjY3XX0sICJ0eXBlIjogIkZlYXR1cmUifSwgeyJnZW9tZXRyeSI6IHsiY29vcmRpbmF0ZXMiOiBbW1stOTEuMDQ4MDcsIDM2LjM1NzU4XSwgWy05MS4wNDgwNywgMzguNTEwMjNdLCBbLTg4LjMwNzIzLCAzOC41MTAyM10sIFstODguMzA3MjMsIDM2LjM1NzU4XSwgWy05MS4wNDgwNywgMzYuMzU3NThdXV0sICJ0eXBlIjogIlBvbHlnb24ifSwgImlkIjogIjIiLCAicHJvcGVydGllcyI6IHsiYm91bmRzX3dnczg0IjogWy05MS4wNDgwNywgMzYuMzU3NTgsIC04OC4zMDcyMywgMzguNTEwMjNdfSwgInR5cGUiOiAiRmVhdHVyZSJ9LCB7Imdlb21ldHJ5IjogeyJjb29yZGluYXRlcyI6IFtbWy04OS40NzI5MiwgMzYuMzgxOThdLCBbLTg5LjQ3MjkyLCAzOC41MTYzXSwgWy04Ni44MDE0OCwgMzguNTE2M10sIFstODYuODAxNDgsIDM2LjM4MTk4XSwgWy04OS40NzI5MiwgMzYuMzgxOThdXV0sICJ0eXBlIjogIlBvbHlnb24ifSwgImlkIjogIjMiLCAicHJvcGVydGllcyI6IHsiYm91bmRzX3dnczg0IjogWy04OS40NzI5MiwgMzYuMzgxOTgsIC04Ni44MDE0OCwgMzguNTE2M119LCAidHlwZSI6ICJGZWF0dXJlIn0sIHsiZ2VvbWV0cnkiOiB7ImNvb3JkaW5hdGVzIjogW1tbLTkxLjA1MTM1LCAzNi4zNTc0N10sIFstOTEuMDUxMzUsIDM4LjUwNzQxXSwgWy04OC4zMTA1OCwgMzguNTA3NDFdLCBbLTg4LjMxMDU4LCAzNi4zNTc0N10sIFstOTEuMDUxMzUsIDM2LjM1NzQ3XV1dLCAidHlwZSI6ICJQb2x5Z29uIn0sICJpZCI6ICI0IiwgInByb3BlcnRpZXMiOiB7ImJvdW5kc193Z3M4NCI6IFstOTEuMDUxMzUsIDM2LjM1NzQ3LCAtODguMzEwNTgsIDM4LjUwNzQxXX0sICJ0eXBlIjogIkZlYXR1cmUifSwgeyJnZW9tZXRyeSI6IHsiY29vcmRpbmF0ZXMiOiBbW1stODguMjg4MzgsIDM0Ljk3Mzk3XSwgWy04OC4yODgzOCwgMzcuMDkxNTFdLCBbLTg1LjcyMzc1LCAzNy4wOTE1MV0sIFstODUuNzIzNzUsIDM0Ljk3Mzk3XSwgWy04OC4yODgzOCwgMzQuOTczOTddXV0sICJ0eXBlIjogIlBvbHlnb24ifSwgImlkIjogIjUiLCAicHJvcGVydGllcyI6IHsiYm91bmRzX3dnczg0IjogWy04OC4yODgzOCwgMzQuOTczOTcsIC04NS43MjM3NSwgMzcuMDkxNTFdfSwgInR5cGUiOiAiRmVhdHVyZSJ9XSwgInR5cGUiOiAiRmVhdHVyZUNvbGxlY3Rpb24ifSk7CiAgICAgICAgCjwvc2NyaXB0Pg==\" style=\"position:absolute;width:100%;height:100%;left:0;top:0;border:none !important;\" allowfullscreen webkitallowfullscreen mozallowfullscreen></iframe></div></div>"
      ],
      "text/markdown": [
       "<iframe src=\"data:text/html;charset=utf-8;base64,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\" allowfullscreen=\"\" webkitallowfullscreen=\"\" mozallowfullscreen=\"\" style=\"position:relative;width:100%;height:500px\"></iframe>"
      ],
      "text/plain": [
       "<folium.folium.Map at 0x125227710>"
      ]
     },
     "execution_count": 1,
     "metadata": {},
     "output_type": "execute_result"
    }
   ],
   "source": [
    "geo_df = geopandas.GeoDataFrame(\n",
    "    l8_filtered.select('geom', 'bounds_wgs84').toPandas(),\n",
    "    crs='EPSG:4326',\n",
    "    geometry='geom')\n",
    "\n",
    "# display as folium / leaflet map\n",
    "m = folium.Map()\n",
    "layer = folium.GeoJson(geo_df.to_json())\n",
    "m.fit_bounds(layer.get_bounds())\n",
    "m.add_child(layer)\n",
    "m"
   ]
  },
  {
   "cell_type": "markdown",
   "metadata": {
    "format": "text/markdown"
   },
   "source": [
    "\n",
    "[GeoPandas]: http://geopandas.org\n",
    "[OGR]: https://gdal.org/drivers/vector/index.html\n",
    "[Shapely]: https://shapely.readthedocs.io/en/latest/manual.html\n"
   ]
  }
 ],
 "metadata": {
  "kernel_info": {
   "name": "python3"
  },
  "language_info": {
   "name": "python"
  }
 },
 "nbformat": 4,
 "nbformat_minor": 0
}